{
 "cells": [
  {
   "cell_type": "code",
   "execution_count": 8,
   "metadata": {
    "collapsed": false
   },
   "outputs": [
    {
     "name": "stdout",
     "output_type": "stream",
     "text": [
      "The autoreload extension is already loaded. To reload it, use:\n",
      "  %reload_ext autoreload\n"
     ]
    }
   ],
   "source": [
    "% load_ext autoreload\n",
    "% autoreload 2\n",
    "% matplotlib inline\n",
    "\n",
    "from matplotlib import pyplot as plt\n",
    "import numpy as np\n",
    "import pandas as pd\n",
    "import scipy as sp\n",
    "import seaborn as sns\n",
    "np.set_printoptions(precision=4, linewidth=120)\n",
    "from tqdm import *\n",
    "from drift_qec.Q import *"
   ]
  },
  {
   "cell_type": "code",
   "execution_count": 9,
   "metadata": {
    "collapsed": false
   },
   "outputs": [
    {
     "name": "stdout",
     "output_type": "stream",
     "text": [
      "[[ 0.1317  0.1109 -0.0285]\n",
      " [ 0.1109  0.5553 -0.2122]\n",
      " [-0.0285 -0.2122  0.3128]]\n",
      "[[ 0.1314  0.1097 -0.0334]\n",
      " [ 0.1097  0.5537 -0.2127]\n",
      " [-0.0334 -0.2127  0.3149]]\n"
     ]
    }
   ],
   "source": [
    "D = 0.25*np.pi\n",
    "channel = Channel(kx=0.7, ky=0.2, kz=0.1, Q=FIXEDQ,\n",
    "                  n=1e2, d1=D, d2=D, d3=D)\n",
    "for _ in range(1000):\n",
    "    channel.update()\n",
    "print channel.C\n",
    "print channel.Mhat"
   ]
  },
  {
   "cell_type": "code",
   "execution_count": 10,
   "metadata": {
    "collapsed": false
   },
   "outputs": [
    {
     "name": "stdout",
     "output_type": "stream",
     "text": [
      "[[ 0.1317  0.1109 -0.0285]\n",
      " [ 0.1109  0.5553 -0.2122]\n",
      " [-0.0285 -0.2122  0.3128]]\n",
      "[[ 0.1297  0.1127 -0.0276]\n",
      " [ 0.1127  0.5579 -0.2126]\n",
      " [-0.0276 -0.2126  0.3124]]\n"
     ]
    }
   ],
   "source": [
    "D = 0.25 * np.pi\n",
    "channel = Channel(kx=0.7, ky=0.2, kz=0.1, Q=FIXEDQ,\n",
    "                  n=1e5, d1=D, d2=D, d3=D)\n",
    "channel.update()\n",
    "print channel.C\n",
    "print channel.Mhat"
   ]
  },
  {
   "cell_type": "code",
   "execution_count": null,
   "metadata": {
    "collapsed": true
   },
   "outputs": [],
   "source": []
  }
 ],
 "metadata": {
  "kernelspec": {
   "display_name": "Python 2",
   "language": "python",
   "name": "python2"
  },
  "language_info": {
   "codemirror_mode": {
    "name": "ipython",
    "version": 2
   },
   "file_extension": ".py",
   "mimetype": "text/x-python",
   "name": "python",
   "nbconvert_exporter": "python",
   "pygments_lexer": "ipython2",
   "version": "2.7.11"
  },
  "toc": {
   "toc_cell": false,
   "toc_number_sections": true,
   "toc_threshold": 6,
   "toc_window_display": false
  }
 },
 "nbformat": 4,
 "nbformat_minor": 0
}
