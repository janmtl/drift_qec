{
 "cells": [
  {
   "cell_type": "code",
   "execution_count": 1,
   "metadata": {
    "collapsed": false
   },
   "outputs": [
    {
     "name": "stderr",
     "output_type": "stream",
     "text": [
      "/Users/yan/.miniconda/lib/python2.7/site-packages/matplotlib/__init__.py:872: UserWarning: axes.color_cycle is deprecated and replaced with axes.prop_cycle; please use the latter.\n",
      "  warnings.warn(self.msg_depr % (key, alt_key))\n"
     ]
    }
   ],
   "source": [
    "% load_ext autoreload\n",
    "% autoreload 2\n",
    "% matplotlib inline\n",
    "\n",
    "from matplotlib import pyplot as plt\n",
    "import numpy as np\n",
    "import pandas as pd\n",
    "import scipy as sp\n",
    "import seaborn as sns\n",
    "np.set_printoptions(precision=5, linewidth=120)\n",
    "from tqdm import *\n",
    "from drift_qec.A import *"
   ]
  },
  {
   "cell_type": "code",
   "execution_count": 18,
   "metadata": {
    "collapsed": false
   },
   "outputs": [],
   "source": [
    "r = np.linspace(-1.0, 1.0, 21)\n",
    "b1, b2, b3, b4, b5, b6 = np.meshgrid(r,r,r,r,r,r)\n",
    "b1 = np.ravel(b1)\n",
    "b2 = np.ravel(b2)\n",
    "b3 = np.ravel(b3)\n",
    "b4 = np.ravel(b4)\n",
    "b5 = np.ravel(b5)\n",
    "b6 = np.ravel(b6)\n",
    "check = (b1 ** 2 + b2 ** 2 + b3 ** 2 + b4 ** 2 + b5 ** 2 + b6 ** 2) <= 1\n",
    "b1 = b1[check].copy()\n",
    "b2 = b2[check].copy()\n",
    "b3 = b3[check].copy()\n",
    "b4 = b4[check].copy()\n",
    "b5 = b5[check].copy()\n",
    "b6 = b6[check].copy()"
   ]
  },
  {
   "cell_type": "code",
   "execution_count": 23,
   "metadata": {
    "collapsed": true
   },
   "outputs": [],
   "source": [
    "def p1L1(b1, b2, b3, b4, b5, b6, d):\n",
    "    return (b1*np.cos(d) - b4*np.sin(d)) ** 2 + (b2*np.sin(d)) ** 2\n",
    "def p2L1(b1, b2, b3, b4, b5, b6, d):\n",
    "    return (b1*np.sin(d) + b4*np.cos(d)) ** 2 + (b2*np.cos(d)) ** 2\n",
    "def p3L1(b1, b2, b3, b4, b5, b6, d):\n",
    "    return b3 ** 2 + b5 ** 2 + b6 ** 2\n",
    "\n",
    "def p1L2(b1, b2, b3, b4, b5, b6, d):\n",
    "    return (b1*np.cos(d) - b5*np.sin(d)) ** 2 + (b3 ** 2 + b6 ** 2)*np.sin(d) ** 2\n",
    "def p2L2(b1, b2, b3, b4, b5, b6, d):\n",
    "    return b2 ** 2 + b4 ** 2\n",
    "def p3L2(b1, b2, b3, b4, b5, b6, d):\n",
    "    return (b1*np.sin(d) + b5*np.cos(d)) ** 2 + (b3 ** 2 + b6 ** 2)*np.cos(d) ** 2\n",
    "\n",
    "def p1L3(b1, b2, b3, b4, b5, b6, d):\n",
    "    return b1 ** 2\n",
    "def p2L3(b1, b2, b3, b4, b5, b6, d):\n",
    "    return (b2*np.cos(d) - b6*np.sin(d)) ** 2 + (b4*np.cos(d) - b5*np.sin(d)) ** 2 + (b3 * np.sin(d)) ** 2\n",
    "def p3L3(b1, b2, b3, b4, b5, b6, d):\n",
    "    return (b2*np.sin(d) + b6*np.cos(d)) ** 2 + (b4*np.sin(d) + b5*np.cos(d)) ** 2 + (b3 * np.cos(d)) ** 2\n",
    "\n",
    "def update_prior(x, b1, b2, b3, b4, b5, b6, d, priorB):\n",
    "    update = x[0] * np.log(p1L1(b1, b2, b3, b4, b5, b6, d)) \\\n",
    "           + x[1] * np.log(p2L1(b1, b2, b3, b4, b5, b6, d)) \\\n",
    "           + x[2] * np.log(p3L1(b1, b2, b3, b4, b5, b6, d)) \\\n",
    "           + x[3] * np.log(p1L2(b1, b2, b3, b4, b5, b6, d)) \\\n",
    "           + x[4] * np.log(p2L2(b1, b2, b3, b4, b5, b6, d)) \\\n",
    "           + x[5] * np.log(p3L2(b1, b2, b3, b4, b5, b6, d)) \\\n",
    "           + x[6] * np.log(p1L3(b1, b2, b3, b4, b5, b6, d)) \\\n",
    "           + x[7] * np.log(p2L3(b1, b2, b3, b4, b5, b6, d)) \\\n",
    "           + x[8] * np.log(p3L3(b1, b2, b3, b4, b5, b6, d)) \n",
    "    new_prior = update + priorB\n",
    "    return new_prior\n",
    "\n",
    "def reconstruct_M(b1, b2, b3, b4, b5, b6, idx):\n",
    "    c1, c2, c3, c4, c5, c6 = b1[idx], b2[idx], b3[idx], b4[idx], b5[idx], b6[idx]\n",
    "    B = np.array([\n",
    "            [c1, c4, c5],\n",
    "            [ 0, c2, c6],\n",
    "            [ 0,  0, c3]\n",
    "        ])\n",
    "    M = np.dot(B.T, B)\n",
    "    return M"
   ]
  },
  {
   "cell_type": "code",
   "execution_count": 52,
   "metadata": {
    "collapsed": true
   },
   "outputs": [],
   "source": [
    "D = 0.1\n",
    "channel = Channel(kx=0.7, ky=0.2, kz=0.1, Q=FIXEDQ,\n",
    "                  n=1e3, d1=D, d2=D, d3=D)\n",
    "priorB = np.ones(b1.shape) * (-np.log(float(np.prod(b1.shape))))"
   ]
  },
  {
   "cell_type": "code",
   "execution_count": 56,
   "metadata": {
    "collapsed": false
   },
   "outputs": [
    {
     "name": "stdout",
     "output_type": "stream",
     "text": [
      "[ 0.5    0.343  0.157  0.508  0.337  0.155  0.539  0.316  0.145]\n"
     ]
    },
    {
     "data": {
      "text/plain": [
       "array([[ 0.49,  0.35,  0.35],\n",
       "       [ 0.35,  0.25,  0.25],\n",
       "       [ 0.35,  0.25,  0.26]])"
      ]
     },
     "execution_count": 56,
     "metadata": {},
     "output_type": "execute_result"
    }
   ],
   "source": [
    "data = channel.sample_data()\n",
    "print data\n",
    "priorB = update_prior(data, b1, b2, b3, b4, b5, b6, D, priorB)\n",
    "\n",
    "idx = np.argmax(new_prior)\n",
    "channel.M = reconstruct_M(b1, b2, b3, b4, b5, b6, idx)\n",
    "channel.M"
   ]
  },
  {
   "cell_type": "code",
   "execution_count": 51,
   "metadata": {
    "collapsed": false
   },
   "outputs": [
    {
     "data": {
      "text/plain": [
       "-33.847920125492116"
      ]
     },
     "execution_count": 51,
     "metadata": {},
     "output_type": "execute_result"
    }
   ],
   "source": [
    "np.max(priorB)"
   ]
  },
  {
   "cell_type": "code",
   "execution_count": 50,
   "metadata": {
    "collapsed": false
   },
   "outputs": [
    {
     "data": {
      "text/plain": [
       "0.88809640981743543"
      ]
     },
     "execution_count": 50,
     "metadata": {},
     "output_type": "execute_result"
    }
   ],
   "source": [
    "np.mean(priorB > -100)"
   ]
  },
  {
   "cell_type": "code",
   "execution_count": 47,
   "metadata": {
    "collapsed": false
   },
   "outputs": [
    {
     "data": {
      "text/plain": [
       "0.11116946115972685"
      ]
     },
     "execution_count": 47,
     "metadata": {},
     "output_type": "execute_result"
    }
   ],
   "source": [
    "np.mean(priorB == -np.inf)"
   ]
  },
  {
   "cell_type": "code",
   "execution_count": 26,
   "metadata": {
    "collapsed": false
   },
   "outputs": [
    {
     "data": {
      "text/plain": [
       "array([[ 0.13174,  0.11094, -0.02851],\n",
       "       [ 0.11094,  0.55535, -0.21218],\n",
       "       [-0.02851, -0.21218,  0.31285]])"
      ]
     },
     "execution_count": 26,
     "metadata": {},
     "output_type": "execute_result"
    }
   ],
   "source": [
    "channel.C"
   ]
  },
  {
   "cell_type": "code",
   "execution_count": null,
   "metadata": {
    "collapsed": true
   },
   "outputs": [],
   "source": []
  }
 ],
 "metadata": {
  "kernelspec": {
   "display_name": "Python 2",
   "language": "python",
   "name": "python2"
  },
  "language_info": {
   "codemirror_mode": {
    "name": "ipython",
    "version": 2
   },
   "file_extension": ".py",
   "mimetype": "text/x-python",
   "name": "python",
   "nbconvert_exporter": "python",
   "pygments_lexer": "ipython2",
   "version": "2.7.11"
  },
  "toc": {
   "toc_cell": false,
   "toc_number_sections": true,
   "toc_threshold": 6,
   "toc_window_display": false
  }
 },
 "nbformat": 4,
 "nbformat_minor": 0
}
