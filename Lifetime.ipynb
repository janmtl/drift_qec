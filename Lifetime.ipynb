{
 "cells": [
  {
   "cell_type": "code",
   "execution_count": 1,
   "metadata": {
    "collapsed": false
   },
   "outputs": [],
   "source": [
    "% load_ext autoreload\n",
    "% autoreload 2\n",
    "\n",
    "import numpy as np\n",
    "import scipy as sp\n",
    "from drift_qec.lifetime import *\n",
    "from os import getpid\n",
    "from time import time\n",
    "np.set_printoptions(precision=5, linewidth=120)"
   ]
  },
  {
   "cell_type": "code",
   "execution_count": 3,
   "metadata": {
    "collapsed": false,
    "scrolled": false
   },
   "outputs": [
    {
     "data": {
      "text/plain": [
       "14170"
      ]
     },
     "execution_count": 3,
     "metadata": {},
     "output_type": "execute_result"
    }
   ],
   "source": [
    "fname = str(getpid()) + \"-\" + str(time()) + \".csv\"\n",
    "channel = Channel(p=0.001, n=15,\n",
    "                  kx=0.99998, ky=0.00001, kz=0.00001,\n",
    "                  Q=np.linalg.qr(np.random.random((3, 3)))[0],\n",
    "                  stacklength=2001,\n",
    "                  Vdecayfn = lambda V, t: V / np.sqrt(float(t)))\n",
    "\n",
    "with open(fname, \"w\") as f:\n",
    "    f.write(\"# Channel\\n\")\n",
    "    f.write(\"# p: {}\\n\".format(channel.p))\n",
    "    f.write(\"# kx: {}\\n\".format(channel.kx))\n",
    "    f.write(\"# ky: {}\\n\".format(channel.ky))\n",
    "    f.write(\"# kz: {}\\n\".format(channel.kz))\n",
    "    f.write(\"# stacklength: {}\\n\".format(channel.stacklength))\n",
    "    f.write(\"# q1: {}\\n\".format(channel.Q[:, 0]))\n",
    "    f.write(\"# q2: {}\\n\".format(channel.Q[:, 1]))\n",
    "    f.write(\"# q3: {}\\n\".format(channel.Q[:, 2]))\n",
    "    f.write(\"fname,error_rate,t,\" \\\n",
    "            + \"err1,err2,err3,\" \\\n",
    "            + \"d1,d2,d3,\" \\\n",
    "            + \"pxhat,pyhat,pzhat,\"\n",
    "            + \"|V|,\"\n",
    "            + \"C_M_Fro,q_qhat_2\\n\")\n",
    "\n",
    "failflag = False\n",
    "while not failflag:\n",
    "    failflag, err1, err2, err3 = channel.step()\n",
    "    with open(fname, \"w\") as f:\n",
    "        # fname, error_rate, t\n",
    "        f.write(\"{},{},{}\".format(fname, channel.p, channel.time))\n",
    "        \n",
    "        # d1, d2, d3\n",
    "        f.write(\"{},{},{}\".format(channel.d1, channel.d2, channel.d3))\n",
    "        \n",
    "        # pxhat, pyhat, pzhat\n",
    "        pxhat, pyhat, pzhat = np.real(np.linalg.eig(channel.M)[0])\n",
    "        f.write(\"{},{},{}\".format(pxhat, pyhat, pzhat))\n",
    "        \n",
    "        # |V|\n",
    "        f.write(\"{},\".format(np.sum(channel.V)))\n",
    "        \n",
    "        # C_M_Fro\n",
    "        f.write(\"{},\".format(np.linalg.norm(channel.C - channel.M)))\n",
    "        \n",
    "        # q_qhat_2\n",
    "        Qhat = np.linalg.svd(channel.M)[0]\n",
    "        f.write(\"{}\".format(np.linalg.norm(channel.Q[:, 0] - Qhat[:, 0])))\n",
    "channel.time"
   ]
  },
  {
   "cell_type": "code",
   "execution_count": 4,
   "metadata": {
    "collapsed": false
   },
   "outputs": [
    {
     "data": {
      "text/plain": [
       "'25759-1460942966.31.csv'"
      ]
     },
     "execution_count": 4,
     "metadata": {},
     "output_type": "execute_result"
    }
   ],
   "source": [
    "fname"
   ]
  }
 ],
 "metadata": {
  "kernelspec": {
   "display_name": "Python 2",
   "language": "python",
   "name": "python2"
  },
  "language_info": {
   "codemirror_mode": {
    "name": "ipython",
    "version": 2
   },
   "file_extension": ".py",
   "mimetype": "text/x-python",
   "name": "python",
   "nbconvert_exporter": "python",
   "pygments_lexer": "ipython2",
   "version": "2.7.11"
  },
  "toc": {
   "toc_cell": false,
   "toc_number_sections": true,
   "toc_threshold": 6,
   "toc_window_display": false
  }
 },
 "nbformat": 4,
 "nbformat_minor": 0
}
