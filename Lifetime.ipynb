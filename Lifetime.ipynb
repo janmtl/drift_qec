{
 "cells": [
  {
   "cell_type": "code",
   "execution_count": 1,
   "metadata": {
    "collapsed": false
   },
   "outputs": [
    {
     "name": "stderr",
     "output_type": "stream",
     "text": [
      "/Users/yan/.miniconda/lib/python2.7/site-packages/matplotlib/__init__.py:872: UserWarning: axes.color_cycle is deprecated and replaced with axes.prop_cycle; please use the latter.\n",
      "  warnings.warn(self.msg_depr % (key, alt_key))\n"
     ]
    }
   ],
   "source": [
    "% load_ext autoreload\n",
    "% autoreload 2\n",
    "% matplotlib inline\n",
    "\n",
    "from matplotlib import pyplot as plt\n",
    "import numpy as np\n",
    "import pandas as pd\n",
    "import scipy as sp\n",
    "import seaborn as sns\n",
    "np.set_printoptions(precision=5, linewidth=120)\n",
    "from tqdm import *\n",
    "from drift_qec.A import *"
   ]
  },
  {
   "cell_type": "code",
   "execution_count": 37,
   "metadata": {
    "collapsed": false
   },
   "outputs": [],
   "source": [
    "from scipy.special import binom as bn\n",
    "\n",
    "def all_rates(C, n, wx, wy, wz):\n",
    "    px, py, pz = np.diag(C)\n",
    "    rates = {}\n",
    "    for x in range(wx+1):\n",
    "        for y in range(wy+1):\n",
    "            for z in range(wz+1):\n",
    "                errstring = \"x\" * x + \"y\" * y + \"z\" * z\n",
    "                rates[errstring] = bn(n, x+y+z) \\\n",
    "                    * (px ** x) * (py ** y) * (pz ** z) \\\n",
    "                    * ((1 - px - py - pz) ** (n - x - y - z))\n",
    "    rates[\"fail\"] = 1 - np.sum(rates.values())\n",
    "    return rates"
   ]
  },
  {
   "cell_type": "code",
   "execution_count": 38,
   "metadata": {
    "collapsed": false
   },
   "outputs": [],
   "source": [
    "channel = Channel(kx=0.99998, ky=0.00001, kz=0.00001, Q=FIXEDQ,\n",
    "                  n=1, stacklength=2001,\n",
    "                  Vdecayfn = lambda V, t: V / np.sqrt(t))"
   ]
  },
  {
   "cell_type": "code",
   "execution_count": 42,
   "metadata": {
    "collapsed": false
   },
   "outputs": [
    {
     "data": {
      "text/plain": [
       "{'': 0.46331534863660179,\n",
       " 'fail': 0.14285179084439514,\n",
       " 'x': 0.01336103455539922,\n",
       " 'xx': 0.00017980852054096105,\n",
       " 'xxx': 1.4979747942420265e-06,\n",
       " 'xxxy': 1.7277900810782496e-07,\n",
       " 'xxxyz': 4.6594944606536299e-09,\n",
       " 'xxxz': 5.5087225944719098e-08,\n",
       " 'xxy': 2.9956949084535648e-05,\n",
       " 'xxyz': 1.1016508616683923e-06,\n",
       " 'xxz': 9.5511905115487436e-06,\n",
       " 'xy': 0.0035958647071473743,\n",
       " 'xyz': 0.0001910075716567343,\n",
       " 'xz': 0.0011464715173364714,\n",
       " 'y': 0.26719797518044675,\n",
       " 'yz': 0.022927481159052094,\n",
       " 'z': 0.085190877016442956}"
      ]
     },
     "execution_count": 42,
     "metadata": {},
     "output_type": "execute_result"
    }
   ],
   "source": [
    "all_rates(0.05*channel.C, 15, 3, 1, 1)"
   ]
  }
 ],
 "metadata": {
  "kernelspec": {
   "display_name": "Python 2",
   "language": "python",
   "name": "python2"
  },
  "language_info": {
   "codemirror_mode": {
    "name": "ipython",
    "version": 2
   },
   "file_extension": ".py",
   "mimetype": "text/x-python",
   "name": "python",
   "nbconvert_exporter": "python",
   "pygments_lexer": "ipython2",
   "version": "2.7.11"
  },
  "toc": {
   "toc_cell": false,
   "toc_number_sections": true,
   "toc_threshold": 6,
   "toc_window_display": false
  }
 },
 "nbformat": 4,
 "nbformat_minor": 0
}
