{
 "cells": [
  {
   "cell_type": "code",
   "execution_count": 1,
   "metadata": {
    "collapsed": false
   },
   "outputs": [
    {
     "name": "stderr",
     "output_type": "stream",
     "text": [
      "/Users/yan/.miniconda/lib/python2.7/site-packages/matplotlib/__init__.py:872: UserWarning: axes.color_cycle is deprecated and replaced with axes.prop_cycle; please use the latter.\n",
      "  warnings.warn(self.msg_depr % (key, alt_key))\n"
     ]
    }
   ],
   "source": [
    "%load_ext autoreload\n",
    "%autoreload 2\n",
    "%matplotlib inline\n",
    "\n",
    "from matplotlib import pyplot as plt\n",
    "from mpl_toolkits.mplot3d import Axes3D\n",
    "import numpy as np\n",
    "import pandas as pd\n",
    "import seaborn as sns\n",
    "from scipy.optimize import fmin_bfgs, fmin_cg\n",
    "np.set_printoptions(precision=2, linewidth=120)"
   ]
  },
  {
   "cell_type": "markdown",
   "metadata": {},
   "source": [
    "Immediately have to address this issue: sampling Qval needs to be Haar-uniform."
   ]
  },
  {
   "cell_type": "code",
   "execution_count": 42,
   "metadata": {
    "collapsed": true
   },
   "outputs": [],
   "source": [
    "PDIAG = np.zeros((9, 9))\n",
    "for esi in np.eye(3):\n",
    "    one = np.kron(esi, esi)\n",
    "    PDIAG = PDIAG + np.outer(one, one)\n",
    "PDIAG = PDIAG.astype(np.int)\n",
    "\n",
    "def testFAC(M):\n",
    "    l = np.linalg.svd(M)[1]\n",
    "    t1 = (1 - l[2]) >= np.abs(l[0] - l[1])\n",
    "    t2 = (1 + l[2]) >= np.abs(l[0] + l[1])\n",
    "    return t1 & t2\n",
    "\n",
    "def Ls(d=0.1):\n",
    "    L1 = np.array([[np.cos(d), -np.sin(d), 0],\n",
    "                   [np.sin(d), np.cos(d), 0],\n",
    "                   [0, 0, 1]])\n",
    "    L2 = np.roll(np.roll(L1, 1, axis=0), 1, axis=1)\n",
    "    L3 = np.roll(np.roll(L2, 1, axis=0), 1, axis=1)\n",
    "    return L1, L2, L3\n",
    "\n",
    "def PLSX(d=0.1):\n",
    "    L1, L2, L3 = Ls(d)\n",
    "    \n",
    "    LL1 = np.kron(L1, L1.T)\n",
    "    LL2 = np.kron(L2, L2.T)\n",
    "    LL3 = np.kron(L3, L3.T)\n",
    "\n",
    "    PL1 = np.dot(np.dot(LL1.T, PDIAG), LL1)\n",
    "    PL2 = np.dot(np.dot(LL2.T, PDIAG), LL2)\n",
    "    PL3 = np.dot(np.dot(LL3.T, PDIAG), LL3)\n",
    "\n",
    "    X = np.r_[PL1, PL2, PL3]\n",
    "    return X\n",
    "\n",
    "def C1(m, data):\n",
    "    M = np.array([\n",
    "                [m[0], m[3], m[4]],\n",
    "                [m[3], m[1], m[5]],\n",
    "                [m[4], m[5], m[2]]\n",
    "            ])\n",
    "    mvec = np.reshape(M, (9,1))\n",
    "    return np.linalg.norm(np.dot(PLSX(), mvec) - data) ** 2\n",
    "\n",
    "def C2(m, data):\n",
    "    mvec = np.array([\n",
    "                [m[0], m[3], m[4]],\n",
    "                [m[3], m[1], m[5]],\n",
    "                [m[4], m[5], m[2]]\n",
    "            ])\n",
    "    M = np.reshape(mvec, (3,3))\n",
    "    t = 1.0 - testFAC(M).astype(np.int)\n",
    "    return t\n",
    "\n",
    "def cost(m, data):\n",
    "    return C1(m, data) + 1000.0*C2(m, data)\n",
    "\n",
    "def tomogn(Mval, n):\n",
    "    mval = 0.5 * (1 - np.diag(Mval))\n",
    "    T = np.array([[0, 1, 1], [1, 0, 1], [1, 1, 0]])\n",
    "    Tinv = np.array([[-0.5, 0.5, 0.5], [0.5, -0.5, 0.5], [0.5, 0.5, -0.5]])\n",
    "    pval = np.dot(Tinv, mval)\n",
    "    pval = np.r_[1-np.sum(pval), pval]\n",
    "    e = np.random.multinomial(n, pval)\n",
    "    p = e / float(n)\n",
    "    Mhat = np.diag(1.0 - 2.0 * np.dot(T, p[1:]))\n",
    "    return Mhat\n",
    "\n",
    "def gatherdata(Mval, n, d=0.1):\n",
    "    L1, L2, L3 = Ls(d)\n",
    "    Mval1 = np.dot(np.dot(L1, Mval), L1.T)\n",
    "    Mval2 = np.dot(np.dot(L2, Mval), L2.T)\n",
    "    Mval3 = np.dot(np.dot(L3, Mval), L3.T)\n",
    "    mhat1 = np.reshape(tomogn(Mval1, n), (9,1))\n",
    "    mhat2 = np.reshape(tomogn(Mval2, n), (9,1))\n",
    "    mhat3 = np.reshape(tomogn(Mval3, n), (9,1))\n",
    "    data = np.r_[mhat1, mhat2, mhat3].T\n",
    "    return data"
   ]
  },
  {
   "cell_type": "code",
   "execution_count": 43,
   "metadata": {
    "collapsed": true
   },
   "outputs": [],
   "source": [
    "Qval = np.linalg.qr(np.random.randn(3,3))[0]\n",
    "Sval = np.diag([0.95, 0.9, 0.85])\n",
    "Mval = np.dot(np.dot(Qval, Sval), Qval.T)"
   ]
  },
  {
   "cell_type": "code",
   "execution_count": 44,
   "metadata": {
    "collapsed": false
   },
   "outputs": [
    {
     "data": {
      "text/plain": [
       "array([[ 0.94, -0.02,  0.02],\n",
       "       [-0.02,  0.86, -0.01],\n",
       "       [ 0.02, -0.01,  0.91]])"
      ]
     },
     "execution_count": 44,
     "metadata": {},
     "output_type": "execute_result"
    }
   ],
   "source": [
    "Mval"
   ]
  },
  {
   "cell_type": "code",
   "execution_count": 45,
   "metadata": {
    "collapsed": true
   },
   "outputs": [],
   "source": [
    "minit = np.random.random((6,1))"
   ]
  },
  {
   "cell_type": "code",
   "execution_count": 46,
   "metadata": {
    "collapsed": true
   },
   "outputs": [],
   "source": [
    "data = gatherdata(Mval, 1000000, d=0.5)"
   ]
  },
  {
   "cell_type": "code",
   "execution_count": 47,
   "metadata": {
    "collapsed": false
   },
   "outputs": [
    {
     "name": "stdout",
     "output_type": "stream",
     "text": [
      "Optimization terminated successfully.\n",
      "         Current function value: 1175.882164\n",
      "         Iterations: 2\n",
      "         Function evaluations: 55\n",
      "         Gradient evaluations: 5\n"
     ]
    }
   ],
   "source": [
    "mopt = fmin_cg(lambda m: cost(m, data), np.random.random((9,1)), disp=True)"
   ]
  },
  {
   "cell_type": "code",
   "execution_count": 30,
   "metadata": {
    "collapsed": false
   },
   "outputs": [],
   "source": [
    "Mopt = np.reshape(mopt, (3, 3))"
   ]
  },
  {
   "cell_type": "code",
   "execution_count": 33,
   "metadata": {
    "collapsed": false
   },
   "outputs": [
    {
     "data": {
      "text/plain": [
       "array([[ 0.87,  0.18,  0.79],\n",
       "       [ 0.09,  0.93,  0.38],\n",
       "       [ 0.72,  0.39,  0.9 ]])"
      ]
     },
     "execution_count": 33,
     "metadata": {},
     "output_type": "execute_result"
    }
   ],
   "source": [
    "Mopt"
   ]
  },
  {
   "cell_type": "code",
   "execution_count": 34,
   "metadata": {
    "collapsed": false
   },
   "outputs": [
    {
     "data": {
      "text/plain": [
       "False"
      ]
     },
     "execution_count": 34,
     "metadata": {},
     "output_type": "execute_result"
    }
   ],
   "source": [
    "testFAC(Mopt)"
   ]
  },
  {
   "cell_type": "code",
   "execution_count": 32,
   "metadata": {
    "collapsed": false
   },
   "outputs": [
    {
     "data": {
      "text/plain": [
       "array([[ 0.87,  0.01, -0.02],\n",
       "       [ 0.01,  0.94,  0.02],\n",
       "       [-0.02,  0.02,  0.88]])"
      ]
     },
     "execution_count": 32,
     "metadata": {},
     "output_type": "execute_result"
    }
   ],
   "source": [
    "Mval"
   ]
  },
  {
   "cell_type": "code",
   "execution_count": null,
   "metadata": {
    "collapsed": false
   },
   "outputs": [],
   "source": [
    "ncycles = []\n",
    "dist = []\n",
    "svd_dist = []\n",
    "Qnormdiffs = []\n",
    "FACs = []\n",
    "ds = []\n",
    "for d in 0.25*np.pi*np.logspace(0, -3, 4):\n",
    "    for trial in range(1000):\n",
    "        Qval = np.linalg.qr(np.random.randn(3,3))[0]\n",
    "        Sval = np.diag([0.95, 0.9, 0.85])\n",
    "        Mval = np.dot(np.dot(Qval, Sval), Qval.T)\n",
    "        for n in np.logspace(1, 6, 30):\n",
    "            Mhat = perfecttomog(Mval)\n",
    "            Qhat = np.linalg.svd(Mhat)[0]\n",
    "            Mhatvals = np.linalg.svd(Mhat)[1]\n",
    "            Mvalvals = np.linalg.svd(Mval)[1]\n",
    "            dist.append(np.linalg.norm(Mhat - Mval))\n",
    "            ncycles.append(n)\n",
    "            svd_dist.append(np.linalg.norm(Mhatvals - Mvalvals))\n",
    "            ds.append(d)\n",
    "            Qnormdiffs.append(np.linalg.norm(np.dot(Qhat.T, Qval) - np.eye(3)))\n",
    "            FACs.append(testFAC(Mhat))\n",
    "\n",
    "df = pd.DataFrame({\"n\": ncycles, \"dist\": svd_dist, \"d\": ds, \"FAC\": FACs})\n",
    "v = df.pivot_table(index=\"d\", columns=\"n\", values=\"dist\", aggfunc=np.mean)\n",
    "s = df.pivot_table(index=\"d\", columns=\"n\", values=\"dist\", aggfunc=np.std)\n",
    "dss = df[\"d\"].unique()\n",
    "\n",
    "fig, ax = plt.subplots(1, 1, figsize=(8, 6))\n",
    "for idx, d in enumerate(dss):\n",
    "    t = v.loc[d, :].index.values\n",
    "    y = v.loc[d, :].values\n",
    "    e = s.loc[d, :].values\n",
    "    ax.semilogx(t, y, c=sns.color_palette()[idx], label=d)\n",
    "    ax.fill_between(t, y-e, y+e, color=sns.color_palette()[idx], alpha=0.25)\n",
    "plt.legend(frameon=True)\n",
    "plt.ylabel(\"Norm distance between $M_{hat}$ and $M_{val}$\")\n",
    "plt.xlabel(\"Number of error correction cycles\")"
   ]
  },
  {
   "cell_type": "code",
   "execution_count": null,
   "metadata": {
    "collapsed": true
   },
   "outputs": [],
   "source": [
    "qopt = fmin_cg(lambda q: cost(q, S, X),\n",
    "                 np.random.random((9,1)),\n",
    "                 disp=False)"
   ]
  }
 ],
 "metadata": {
  "kernelspec": {
   "display_name": "Python 2",
   "language": "python",
   "name": "python2"
  },
  "language_info": {
   "codemirror_mode": {
    "name": "ipython",
    "version": 2
   },
   "file_extension": ".py",
   "mimetype": "text/x-python",
   "name": "python",
   "nbconvert_exporter": "python",
   "pygments_lexer": "ipython2",
   "version": "2.7.11"
  },
  "toc": {
   "toc_cell": false,
   "toc_number_sections": true,
   "toc_threshold": 6,
   "toc_window_display": false
  }
 },
 "nbformat": 4,
 "nbformat_minor": 0
}
