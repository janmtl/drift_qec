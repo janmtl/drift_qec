{
 "cells": [
  {
   "cell_type": "code",
   "execution_count": 81,
   "metadata": {
    "collapsed": false
   },
   "outputs": [
    {
     "name": "stdout",
     "output_type": "stream",
     "text": [
      "The autoreload extension is already loaded. To reload it, use:\n",
      "  %reload_ext autoreload\n"
     ]
    }
   ],
   "source": [
    "% load_ext autoreload\n",
    "% autoreload 2\n",
    "% matplotlib inline\n",
    "\n",
    "from matplotlib import pyplot as plt\n",
    "import numpy as np\n",
    "import pandas as pd\n",
    "import scipy as sp\n",
    "import seaborn as sns\n",
    "np.set_printoptions(precision=4, linewidth=120)\n",
    "from tqdm import *\n",
    "from drift_qec.A import *"
   ]
  },
  {
   "cell_type": "markdown",
   "metadata": {},
   "source": [
    "# Covariance-weighted update"
   ]
  },
  {
   "cell_type": "code",
   "execution_count": 157,
   "metadata": {
    "collapsed": false
   },
   "outputs": [
    {
     "name": "stdout",
     "output_type": "stream",
     "text": [
      "[[ 0.1317  0.1109 -0.0285]\n",
      " [ 0.1109  0.5553 -0.2122]\n",
      " [-0.0285 -0.2122  0.3128]]\n",
      "[[ 0.1987  0.15   -0.0149]\n",
      " [ 0.15    0.4867 -0.1574]\n",
      " [-0.0149 -0.1574  0.3147]]\n"
     ]
    }
   ],
   "source": [
    "D = 0.25*np.pi\n",
    "channel = Channel(kx=0.7, ky=0.2, kz=0.1, Q=FIXEDQ,\n",
    "                  n=1e2, d1=D, d2=D, d3=D)\n",
    "for _ in range(1000):\n",
    "    channel.update()\n",
    "print channel.C\n",
    "print channel.M"
   ]
  },
  {
   "cell_type": "code",
   "execution_count": 156,
   "metadata": {
    "collapsed": false
   },
   "outputs": [
    {
     "name": "stdout",
     "output_type": "stream",
     "text": [
      "[[ 0.1317  0.1109 -0.0285]\n",
      " [ 0.1109  0.5553 -0.2122]\n",
      " [-0.0285 -0.2122  0.3128]]\n",
      "[[ 0.1329  0.1086 -0.0256]\n",
      " [ 0.1086  0.5543 -0.2101]\n",
      " [-0.0256 -0.2101  0.3129]]\n"
     ]
    }
   ],
   "source": [
    "D = 0.25 * np.pi\n",
    "channel = Channel(kx=0.7, ky=0.2, kz=0.1, Q=FIXEDQ,\n",
    "                  n=1e5, d1=D, d2=D, d3=D)\n",
    "channel.update()\n",
    "print channel.C\n",
    "print channel.M"
   ]
  },
  {
   "cell_type": "markdown",
   "metadata": {},
   "source": [
    "# Simulate this"
   ]
  },
  {
   "cell_type": "code",
   "execution_count": null,
   "metadata": {
    "collapsed": false
   },
   "outputs": [],
   "source": [
    "D = 0.25*np.pi\n",
    "D = 0.01\n",
    "channel = Channel(kx=0.7, ky=0.2, kz=0.1,\n",
    "                  Q=np.linalg.qr(np.random.randn(3,3))[0],\n",
    "                  n=1e3, d1=D, d2=D, d3=D)"
   ]
  },
  {
   "cell_type": "code",
   "execution_count": null,
   "metadata": {
    "collapsed": true
   },
   "outputs": [],
   "source": [
    "channel.update()"
   ]
  },
  {
   "cell_type": "code",
   "execution_count": null,
   "metadata": {
    "collapsed": false
   },
   "outputs": [],
   "source": [
    "channel.C"
   ]
  },
  {
   "cell_type": "code",
   "execution_count": null,
   "metadata": {
    "collapsed": false
   },
   "outputs": [],
   "source": [
    "channel.Mhat"
   ]
  },
  {
   "cell_type": "code",
   "execution_count": null,
   "metadata": {
    "collapsed": false
   },
   "outputs": [],
   "source": [
    "Q  = np.linalg.qr(np.random.randn(3,3))[0]\n",
    "C  = np.random.random((3,3))\n",
    "\n",
    "print np.reshape(np.dot(np.dot(Q, C), Q.T), (9,))\n",
    "print np.dot(np.kron(Q, Q), np.reshape(C, (9,)))"
   ]
  },
  {
   "cell_type": "code",
   "execution_count": null,
   "metadata": {
    "collapsed": true
   },
   "outputs": [],
   "source": [
    "CYCLES = range(1000)\n",
    "D = 0.25*np.pi\n",
    "channel = Channel(kx=0.7, ky=0.2, kz=0.1,\n",
    "                  Q=np.linalg.qr(np.random.randn(3,3))[0],\n",
    "                  n=1e1, d1=D, d2=D, d3=D)\n",
    "\n",
    "RECORDS = []\n",
    "for cycle in CYCLES:\n",
    "    qxhat = np.linalg.eig(channel.Mhat)[1][:, 0]\n",
    "    qxval = channel.Q[:, 0]\n",
    "    RECORDS.append({\n",
    "            \"cycle\": cycle,\n",
    "            \"d1\", channel.d1, \"d2\", channel.d2, \"d3\", channel.d3,\n",
    "            \"qxhat1\": qxhat[0], \"qxhat2\": qxhat[1], \"qxhat3\": qxhat[2],\n",
    "            \"qxval1\": qxval[0], \"qxval2\": qxval[1], \"qxval3\": qxval[2]\n",
    "        })\n",
    "    channel.update()\n",
    "    channel.d1, channel.d2, channel.d3 = "
   ]
  }
 ],
 "metadata": {
  "kernelspec": {
   "display_name": "Python 2",
   "language": "python",
   "name": "python2"
  },
  "language_info": {
   "codemirror_mode": {
    "name": "ipython",
    "version": 2
   },
   "file_extension": ".py",
   "mimetype": "text/x-python",
   "name": "python",
   "nbconvert_exporter": "python",
   "pygments_lexer": "ipython2",
   "version": "2.7.11"
  },
  "toc": {
   "toc_cell": false,
   "toc_number_sections": true,
   "toc_threshold": 6,
   "toc_window_display": false
  }
 },
 "nbformat": 4,
 "nbformat_minor": 0
}
