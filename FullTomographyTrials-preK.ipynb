{
 "cells": [
  {
   "cell_type": "code",
   "execution_count": 2,
   "metadata": {
    "collapsed": false
   },
   "outputs": [
    {
     "name": "stderr",
     "output_type": "stream",
     "text": [
      "/Users/yan/.miniconda/lib/python2.7/site-packages/matplotlib/__init__.py:872: UserWarning: axes.color_cycle is deprecated and replaced with axes.prop_cycle; please use the latter.\n",
      "  warnings.warn(self.msg_depr % (key, alt_key))\n"
     ]
    }
   ],
   "source": [
    "%load_ext autoreload\n",
    "%autoreload 2\n",
    "%matplotlib inline\n",
    "\n",
    "from matplotlib import pyplot as plt\n",
    "import numpy as np\n",
    "import pandas as pd\n",
    "import seaborn as sns\n",
    "np.set_printoptions(precision=2, linewidth=120)\n",
    "from copy import copy"
   ]
  },
  {
   "cell_type": "code",
   "execution_count": 3,
   "metadata": {
    "collapsed": false
   },
   "outputs": [],
   "source": [
    "PDIAG = np.zeros((9, 9))\n",
    "for esi in np.eye(3):\n",
    "    one = np.kron(esi, esi)\n",
    "    PDIAG = PDIAG + np.outer(one, one)\n",
    "PDIAG = PDIAG.astype(np.int)\n",
    "\n",
    "def Ls(d=0.1):\n",
    "    L1 = np.array([[np.cos(d), -np.sin(d), 0],\n",
    "                   [np.sin(d), np.cos(d), 0],\n",
    "                   [0, 0, 1]])\n",
    "    L2 = np.roll(np.roll(L1, 1, axis=0), 1, axis=1)\n",
    "    L3 = np.roll(np.roll(L2, 1, axis=0), 1, axis=1)\n",
    "    return L1, L2, L3\n",
    "\n",
    "def SENSOR(d=0.1):\n",
    "    L1, L2, L3 = Ls(d)\n",
    "    LL1 = np.dot(PDIAG, np.kron(L1, L1))\n",
    "    LL2 = np.dot(PDIAG, np.kron(L2, L2))\n",
    "    LL3 = np.dot(PDIAG, np.kron(L3, L3))\n",
    "    SENSOR = np.r_[LL1[[0, 4, 8], :], LL2[[0, 4, 8], :], LL3[[0, 4, 8], :]]\n",
    "    SENSOR = SENSOR[:, [0, 1, 2, 4, 5, 8]]\n",
    "    return SENSOR"
   ]
  },
  {
   "cell_type": "markdown",
   "metadata": {},
   "source": [
    "- Original basis `Q0`\n",
    "- Recovered basis `Qc` (Controlled-bsais)\n",
    "- Effected basis `Qeff = Qt.T * Q0`\n",
    "- Use effected basis for error sampling\n",
    "- Learn `Qt` progressively better\n",
    "- When data comes in from the `Qeff` alignment, you must transform it back to the standard basis before average with the existing channel estimate"
   ]
  },
  {
   "cell_type": "code",
   "execution_count": 334,
   "metadata": {
    "collapsed": false
   },
   "outputs": [],
   "source": [
    "class Channel(object):\n",
    "    def __init__(self, kx, ky, kz, **kwargs):\n",
    "        self.kx, self.ky, self.kz = kx, ky, kz\n",
    "        self.n = kwargs.get(\"n\", 1e6)\n",
    "        self.d = kwargs.get(\"d\", 0.01)\n",
    "        self.Q = kwargs.get(\"Q\", np.eye(3))\n",
    "        self.Qc = kwargs.get(\"Qc\", np.eye(3))\n",
    "        self.Mhat = kwargs.get(\"Mhat\", np.zeros(3))\n",
    "        self.cycle = 1\n",
    "        self.C = np.dot(np.dot(channel.Q,\n",
    "                               np.diag([channel.kx, channel.ky, channel.kz])),\n",
    "                        channel.Q.T)\n",
    "        self.Q = np.linalg.svd(self.C)[0]\n",
    "\n",
    "    def sample_data(self):\n",
    "        Cc = np.dot(np.dot(self.Qc, self.C), self.Qc.T)\n",
    "        cvec = np.reshape(Cc, (9, 1))\n",
    "        cvec = cvec[[0, 1, 2, 4, 5, 8], :]\n",
    "        rates = np.dot(SENSOR(self.d), cvec).T[0]\n",
    "\n",
    "        # Get samples for each L_i\n",
    "        D1 = np.random.multinomial(self.n, rates[0:3]) / float(self.n)\n",
    "        D2 = np.random.multinomial(self.n, rates[3:6]) / float(self.n)\n",
    "        D3 = np.random.multinomial(self.n, rates[6:9]) / float(self.n)\n",
    "\n",
    "        data = np.r_[D1, D2, D3]\n",
    "        return data\n",
    "\n",
    "    def update(self):\n",
    "        # Get new data at this effective orientation\n",
    "        data = self.sample_data()\n",
    "        \n",
    "        # Recover the process matrix at this orientation\n",
    "        Mc = self.recoverM(data, self.d)\n",
    "        Mnew = np.dot(np.dot(self.Qc.T, Mc), self.Qc)\n",
    "        \n",
    "        # Update Mhat in the standard basis\n",
    "        self.Mhat = (self.cycle) / float(self.cycle+1) * self.Mhat \\\n",
    "                  + 1/float(self.cycle+1) * Mnew\n",
    "\n",
    "        # Get the orientation that would diagonalize the full Mhat\n",
    "        self.Qc = np.linalg.svd(self.Mhat)[0]\n",
    "\n",
    "        # Update the process matrices\n",
    "        self.cycle = self.cycle + 1\n",
    "\n",
    "    @staticmethod\n",
    "    def recoverM(data, d):\n",
    "        # Linear constraint on trace\n",
    "        # R * m = data\n",
    "        # extend m by one variable x = [m; z1]\n",
    "        # http://stanford.edu/class/ee103/lectures/constrained-least-squares/constrained-least-squares_slides.pdf\n",
    "        TRACE = np.array([[1, 0, 0, 1, 0, 1]])\n",
    "        R = np.r_[2.0 * np.dot(SENSOR(d).T, SENSOR(d)), TRACE]\n",
    "        R = np.c_[R, np.r_[TRACE.T, [[0]]]]\n",
    "        Y = np.r_[2.0*np.dot(SENSOR(d).T, data), 1]\n",
    "        m = np.dot(np.dot(np.linalg.inv(np.dot(R.T, R)), R.T), Y)\n",
    "        M = np.array([\n",
    "                [m[0], m[1], m[2]],\n",
    "                [m[1], m[3], m[4]],\n",
    "                [m[2], m[4], m[5]]\n",
    "            ])\n",
    "        return M"
   ]
  },
  {
   "cell_type": "code",
   "execution_count": 335,
   "metadata": {
    "collapsed": false
   },
   "outputs": [],
   "source": [
    "channel = Channel(kx=0.7, ky=0.2, kz=0.1,\n",
    "                  Q=np.linalg.qr(np.random.randn(3,3))[0],\n",
    "                  n=1e6, d=0.01)"
   ]
  },
  {
   "cell_type": "code",
   "execution_count": 338,
   "metadata": {
    "collapsed": false
   },
   "outputs": [],
   "source": [
    "for _ in range(1000):\n",
    "    channel.update()"
   ]
  },
  {
   "cell_type": "code",
   "execution_count": 339,
   "metadata": {
    "collapsed": false
   },
   "outputs": [
    {
     "data": {
      "text/plain": [
       "array([[ 0.44,  0.23, -0.11],\n",
       "       [ 0.23,  0.41, -0.11],\n",
       "       [-0.11, -0.11,  0.15]])"
      ]
     },
     "execution_count": 339,
     "metadata": {},
     "output_type": "execute_result"
    }
   ],
   "source": [
    "channel.C"
   ]
  },
  {
   "cell_type": "code",
   "execution_count": 340,
   "metadata": {
    "collapsed": false
   },
   "outputs": [
    {
     "data": {
      "text/plain": [
       "array([[ 0.44,  0.23, -0.11],\n",
       "       [ 0.23,  0.41, -0.11],\n",
       "       [-0.11, -0.11,  0.15]])"
      ]
     },
     "execution_count": 340,
     "metadata": {},
     "output_type": "execute_result"
    }
   ],
   "source": [
    "channel.Mhat"
   ]
  },
  {
   "cell_type": "code",
   "execution_count": 341,
   "metadata": {
    "collapsed": false
   },
   "outputs": [
    {
     "data": {
      "text/plain": [
       "array([[-0.7 ,  0.7 ,  0.16],\n",
       "       [-0.66, -0.72,  0.23],\n",
       "       [ 0.28,  0.05,  0.96]])"
      ]
     },
     "execution_count": 341,
     "metadata": {},
     "output_type": "execute_result"
    }
   ],
   "source": [
    "channel.Qc"
   ]
  },
  {
   "cell_type": "code",
   "execution_count": 342,
   "metadata": {
    "collapsed": false
   },
   "outputs": [
    {
     "data": {
      "text/plain": [
       "array([[-0.7 ,  0.69,  0.16],\n",
       "       [-0.66, -0.72,  0.24],\n",
       "       [ 0.28,  0.06,  0.96]])"
      ]
     },
     "execution_count": 342,
     "metadata": {},
     "output_type": "execute_result"
    }
   ],
   "source": [
    "channel.Q"
   ]
  }
 ],
 "metadata": {
  "kernelspec": {
   "display_name": "Python 2",
   "language": "python",
   "name": "python2"
  },
  "language_info": {
   "codemirror_mode": {
    "name": "ipython",
    "version": 2
   },
   "file_extension": ".py",
   "mimetype": "text/x-python",
   "name": "python",
   "nbconvert_exporter": "python",
   "pygments_lexer": "ipython2",
   "version": "2.7.11"
  },
  "toc": {
   "toc_cell": false,
   "toc_number_sections": true,
   "toc_threshold": 6,
   "toc_window_display": false
  }
 },
 "nbformat": 4,
 "nbformat_minor": 0
}
