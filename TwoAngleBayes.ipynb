{
 "cells": [
  {
   "cell_type": "code",
   "execution_count": 39,
   "metadata": {
    "collapsed": false
   },
   "outputs": [
    {
     "name": "stdout",
     "output_type": "stream",
     "text": [
      "The autoreload extension is already loaded. To reload it, use:\n",
      "  %reload_ext autoreload\n"
     ]
    }
   ],
   "source": [
    "% load_ext autoreload\n",
    "% autoreload 2\n",
    "% matplotlib inline\n",
    "\n",
    "from matplotlib import pyplot as plt\n",
    "import numpy as np\n",
    "import pandas as pd\n",
    "import scipy as sp\n",
    "import seaborn as sns\n",
    "np.set_printoptions(precision=5, linewidth=120)\n",
    "from tqdm import *\n",
    "from drift_qec.A import *"
   ]
  },
  {
   "cell_type": "markdown",
   "metadata": {},
   "source": [
    "# This is the method using a wobbling operator"
   ]
  },
  {
   "cell_type": "code",
   "execution_count": 40,
   "metadata": {
    "collapsed": true
   },
   "outputs": [],
   "source": [
    "def get_PB(d):\n",
    "    theta1 = np.linspace(0.0, np.pi, 201)\n",
    "    Ntheta = np.floor(len(theta1)*np.sin(theta1) + 1).astype(np.int)\n",
    "    theta2 = []\n",
    "    for ntheta in Ntheta:\n",
    "        theta2 = theta2 + list(np.linspace(-np.pi, np.pi, ntheta))\n",
    "    theta2 = np.r_[theta2]\n",
    "    theta1 = np.repeat(theta1, Ntheta)\n",
    "    a = np.sin(theta1) * np.cos(theta2)\n",
    "    b = np.sin(theta1) * np.sin(theta2)\n",
    "    c = np.cos(theta1)\n",
    "    B = np.c_[a, b, c]\n",
    "    \n",
    "    p1L1 = (B[:, 0] * np.cos(d) - B[:, 1] * np.sin(d)) ** 2\n",
    "    p2L1 = (B[:, 0] * np.sin(d) + B[:, 1] * np.cos(d)) ** 2\n",
    "    p3L1 = B[:, 2] ** 2\n",
    "    p1L2 = (B[:, 0] * np.cos(d) - B[:, 2] * np.sin(d)) ** 2\n",
    "    p2L2 = B[:, 1] ** 2\n",
    "    p3L2 = (B[:, 0] * np.sin(d) + B[:, 2] * np.cos(d)) ** 2\n",
    "    p1L3 = B[:, 0] ** 2\n",
    "    p2L3 = (B[:, 1] * np.cos(d) - B[:, 2] * np.sin(d)) ** 2\n",
    "    p3L3 = (B[:, 1] * np.sin(d) + B[:, 2] * np.cos(d)) ** 2\n",
    "    P = np.log(np.c_[p1L1, p2L1, p3L1, p1L2, p2L2, p3L2, p1L3, p2L3, p3L3])\n",
    "    \n",
    "    priorB = np.ones(len(B))\n",
    "    \n",
    "    return P, B, priorB\n",
    "\n",
    "def update_prior(x, P, priorB):\n",
    "    update = np.dot(data, P.T)\n",
    "    sel_not_nan = ~np.isnan(priorB)\n",
    "    sel_not_inf = np.isfinite(priorB)\n",
    "    priorB_mean = np.mean(priorB[sel_not_nan & sel_not_inf])\n",
    "    return priorB + update - priorB_mean\n",
    "\n",
    "def reconstruct_M(B, priorB):\n",
    "    idx = np.nanargmax(priorB)\n",
    "    M = np.outer(B[idx, :], B[idx, :])\n",
    "    return M"
   ]
  },
  {
   "cell_type": "code",
   "execution_count": 41,
   "metadata": {
    "collapsed": false
   },
   "outputs": [
    {
     "name": "stderr",
     "output_type": "stream",
     "text": []
    }
   ],
   "source": [
    "TRIALS = 100\n",
    "RECORDS = []\n",
    "\n",
    "for trial in tqdm(range(TRIALS)):\n",
    "    d = 0.25*np.pi\n",
    "    channel = Channel(kx=0.99998, ky=0.00001, kz=0.00001, Q=FIXEDQ, n=1, d1=d, d2=d, d3=d)\n",
    "    P, B, priorB = get_PB(d)\n",
    "    for t in range(1000):\n",
    "        data = channel.sample_data()\n",
    "        priorB = update_prior(data, P, priorB)\n",
    "        M = reconstruct_M(B, priorB)\n",
    "        channel.M = np.dot(np.dot(channel.Qc.T, M), channel.Qc)\n",
    "        Qhat = np.linalg.svd(channel.M)[0]\n",
    "        Q = channel.Q\n",
    "        RECORDS.append({\n",
    "                \"t\": channel.n * t,\n",
    "                \"q_qhat\": np.linalg.norm(Qhat[:, 0] - Q[:, 0])\n",
    "            })\n",
    "\n",
    "df = pd.DataFrame(RECORDS)\n",
    "df.to_csv(\"TwoAngleBayes200.csv\")"
   ]
  },
  {
   "cell_type": "code",
   "execution_count": 42,
   "metadata": {
    "collapsed": false
   },
   "outputs": [
    {
     "data": {
      "text/plain": [
       "[<matplotlib.lines.Line2D at 0x115263850>]"
      ]
     },
     "execution_count": 42,
     "metadata": {},
     "output_type": "execute_result"
    },
    {
     "data": {
      "image/png": "[encoded data removed]",
      "text/plain": [
       "<matplotlib.figure.Figure at 0x1147ab7d0>"
      ]
     },
     "metadata": {},
     "output_type": "display_data"
    }
   ],
   "source": [
    "v = df.groupby(\"t\").mean()\n",
    "plt.loglog(v.index.values, v[\"q_qhat\"].values)"
   ]
  },
  {
   "cell_type": "code",
   "execution_count": 43,
   "metadata": {
    "collapsed": false
   },
   "outputs": [
    {
     "name": "stdout",
     "output_type": "stream",
     "text": [
      "[[ 0.03636  0.16297 -0.09209]\n",
      " [ 0.16297  0.7304  -0.41274]\n",
      " [-0.09209 -0.41274  0.23323]]\n",
      "[[ 0.03653  0.16333 -0.09222]\n",
      " [ 0.16333  0.7305  -0.41247]\n",
      " [-0.09222 -0.41247  0.23291]]\n"
     ]
    }
   ],
   "source": [
    "print channel.M\n",
    "print channel.C"
   ]
  },
  {
   "cell_type": "markdown",
   "metadata": {},
   "source": [
    "# We actually don't need a wobbling operator since for a two parameter family of channels, the diagonal statistics are good enough."
   ]
  },
  {
   "cell_type": "code",
   "execution_count": 130,
   "metadata": {
    "collapsed": false
   },
   "outputs": [],
   "source": [
    "C_DIAGS = np.diag([0.99998, 0.00001, 0.00001])\n",
    "C_BASIS = FIXEDQ\n",
    "C = np.dot(np.dot(C_BASIS, C_DIAGS), C_BASIS.T)\n",
    "\n",
    "CONTROL_Q = np.linalg.qr(np.random.randn(3,3))[0]\n",
    "CONTROL_Q = np.eye(3)\n",
    "CONTROL_C = np.dot(np.dot(CONTROL_Q, C), CONTROL_Q)\n",
    "\n",
    "theta1 = np.linspace(0.0, np.pi, 201)\n",
    "Ntheta = np.floor(len(theta1)*np.sin(theta1) + 1).astype(np.int)\n",
    "theta2 = []\n",
    "for ntheta in Ntheta:\n",
    "    theta2 = theta2 + list(np.linspace(-np.pi, np.pi, ntheta))\n",
    "theta2 = np.r_[theta2]\n",
    "theta1 = np.repeat(theta1, Ntheta)"
   ]
  },
  {
   "cell_type": "markdown",
   "metadata": {},
   "source": [
    "Screw the adaptive part for a sec, just get the learning rate:"
   ]
  },
  {
   "cell_type": "code",
   "execution_count": 143,
   "metadata": {
    "collapsed": false
   },
   "outputs": [
    {
     "name": "stderr",
     "output_type": "stream",
     "text": []
    }
   ],
   "source": [
    "TRIALS = 100\n",
    "RECORDS = []\n",
    "for trial in tqdm(range(TRIALS)):\n",
    "\n",
    "    prior = np.ones(len(theta2)) / float(len(theta2))\n",
    "\n",
    "    update = {}\n",
    "    update[\"x\"] = (np.sin(theta1) * np.cos(theta2)) ** 2\n",
    "    update[\"y\"] = (np.sin(theta1) * np.sin(theta2)) ** 2\n",
    "    update[\"z\"] = np.cos(theta1) ** 2\n",
    "\n",
    "    rates = np.diag(CONTROL_C) / np.trace(CONTROL_C)\n",
    "\n",
    "    for t in range(1000):\n",
    "        err = np.random.choice([\"x\", \"y\", \"z\"], p=rates)\n",
    "        prior = prior  * update[err]\n",
    "        prior = prior / np.sum(prior)\n",
    "        idx = np.argmax(prior)\n",
    "        opttheta1 = theta1[idx]\n",
    "        opttheta2 = theta2[idx]\n",
    "        optqx = np.array([np.sin(opttheta1) * np.cos(opttheta2),\n",
    "                          np.sin(opttheta1) * np.sin(opttheta2),\n",
    "                          np.cos(opttheta1)])\n",
    "        Mhat = np.outer(optqx, optqx)\n",
    "        RECORDS.append({\n",
    "                \"t\": t,\n",
    "                \"unsigned_err\": np.linalg.norm(np.abs(np.abs(Mhat) - np.abs(C))),\n",
    "                \"signed_err\": np.linalg.norm(Mhat - C)\n",
    "            })\n",
    "df = pd.DataFrame(RECORDS)"
   ]
  },
  {
   "cell_type": "code",
   "execution_count": 146,
   "metadata": {
    "collapsed": false
   },
   "outputs": [
    {
     "data": {
      "text/plain": [
       "[<matplotlib.lines.Line2D at 0x114c5a850>]"
      ]
     },
     "execution_count": 146,
     "metadata": {},
     "output_type": "execute_result"
    },
    {
     "data": {
      "image/png": "[encoded data removed]",
      "text/plain": [
       "<matplotlib.figure.Figure at 0x1148dca50>"
      ]
     },
     "metadata": {},
     "output_type": "display_data"
    }
   ],
   "source": [
    "v = df.groupby(\"t\").mean()\n",
    "plt.loglog(v.index.values, v[\"unsigned_err\"].values)"
   ]
  },
  {
   "cell_type": "code",
   "execution_count": 147,
   "metadata": {
    "collapsed": false
   },
   "outputs": [
    {
     "data": {
      "text/plain": [
       "[<matplotlib.lines.Line2D at 0x1166307d0>]"
      ]
     },
     "execution_count": 147,
     "metadata": {},
     "output_type": "execute_result"
    },
    {
     "data": {
      "image/png": "[encoded data removed]",
      "text/plain": [
       "<matplotlib.figure.Figure at 0x113b5cc90>"
      ]
     },
     "metadata": {},
     "output_type": "display_data"
    }
   ],
   "source": [
    "v = df.groupby(\"t\").mean()\n",
    "plt.loglog(v.index.values, v[\"signed_err\"].values)"
   ]
  },
  {
   "cell_type": "code",
   "execution_count": null,
   "metadata": {
    "collapsed": true
   },
   "outputs": [],
   "source": []
  }
 ],
 "metadata": {
  "kernelspec": {
   "display_name": "Python 2",
   "language": "python",
   "name": "python2"
  },
  "language_info": {
   "codemirror_mode": {
    "name": "ipython",
    "version": 2
   },
   "file_extension": ".py",
   "mimetype": "text/x-python",
   "name": "python",
   "nbconvert_exporter": "python",
   "pygments_lexer": "ipython2",
   "version": "2.7.11"
  },
  "toc": {
   "toc_cell": false,
   "toc_number_sections": true,
   "toc_threshold": 6,
   "toc_window_display": false
  }
 },
 "nbformat": 4,
 "nbformat_minor": 0
}
