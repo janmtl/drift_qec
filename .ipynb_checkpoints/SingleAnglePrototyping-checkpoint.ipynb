{
 "cells": [
  {
   "cell_type": "code",
   "execution_count": 1,
   "metadata": {
    "collapsed": false
   },
   "outputs": [
    {
     "name": "stderr",
     "output_type": "stream",
     "text": [
      "/Users/yan/.miniconda/lib/python2.7/site-packages/matplotlib/__init__.py:872: UserWarning: axes.color_cycle is deprecated and replaced with axes.prop_cycle; please use the latter.\n",
      "  warnings.warn(self.msg_depr % (key, alt_key))\n",
      "/Users/yan/.miniconda/lib/python2.7/site-packages/matplotlib/__init__.py:892: UserWarning: axes.color_cycle is deprecated and replaced with axes.prop_cycle; please use the latter.\n",
      "  warnings.warn(self.msg_depr % (key, alt_key))\n"
     ]
    }
   ],
   "source": [
    "% matplotlib inline\n",
    "import pandas as pd\n",
    "import numpy as np\n",
    "from matplotlib import pyplot as plt\n",
    "from drift_qec import *"
   ]
  },
  {
   "cell_type": "code",
   "execution_count": 2,
   "metadata": {
    "collapsed": false
   },
   "outputs": [
    {
     "ename": "NameError",
     "evalue": "name 'NormalDephasingChannel' is not defined",
     "output_type": "error",
     "traceback": [
      "\u001b[0;31m---------------------------------------------------------------------------\u001b[0m",
      "\u001b[0;31mNameError\u001b[0m                                 Traceback (most recent call last)",
      "\u001b[0;32m<ipython-input-2-511828b9d3cf>\u001b[0m in \u001b[0;36m<module>\u001b[0;34m()\u001b[0m\n\u001b[1;32m      4\u001b[0m \u001b[0msigma\u001b[0m \u001b[0;34m=\u001b[0m \u001b[0;36m10\u001b[0m\u001b[0;34m\u001b[0m\u001b[0m\n\u001b[1;32m      5\u001b[0m \u001b[0mmax_time\u001b[0m \u001b[0;34m=\u001b[0m \u001b[0;36m1\u001b[0m \u001b[0;34m/\u001b[0m \u001b[0;34m(\u001b[0m\u001b[0;36m0.06\u001b[0m \u001b[0;34m*\u001b[0m \u001b[0merror_rate\u001b[0m\u001b[0;34m)\u001b[0m \u001b[0;34m**\u001b[0m \u001b[0;36m2\u001b[0m\u001b[0;34m\u001b[0m\u001b[0m\n\u001b[0;32m----> 6\u001b[0;31m \u001b[0mchannel\u001b[0m \u001b[0;34m=\u001b[0m \u001b[0mNormalDephasingChannel\u001b[0m\u001b[0;34m(\u001b[0m\u001b[0merror_rate\u001b[0m\u001b[0;34m=\u001b[0m\u001b[0;36m0.01\u001b[0m\u001b[0;34m,\u001b[0m \u001b[0mkappa\u001b[0m\u001b[0;34m=\u001b[0m\u001b[0mkappa\u001b[0m\u001b[0;34m,\u001b[0m \u001b[0mdrift_rate\u001b[0m\u001b[0;34m=\u001b[0m\u001b[0mdrift_rate\u001b[0m\u001b[0;34m,\u001b[0m \u001b[0mmax_time\u001b[0m\u001b[0;34m=\u001b[0m\u001b[0mmax_time\u001b[0m\u001b[0;34m,\u001b[0m \u001b[0msigma\u001b[0m\u001b[0;34m=\u001b[0m\u001b[0msigma\u001b[0m\u001b[0;34m)\u001b[0m\u001b[0;34m\u001b[0m\u001b[0m\n\u001b[0m\u001b[1;32m      7\u001b[0m \u001b[0mest\u001b[0m \u001b[0;34m=\u001b[0m \u001b[0mNormalDephasingEstimator\u001b[0m\u001b[0;34m(\u001b[0m\u001b[0mgrains\u001b[0m\u001b[0;34m=\u001b[0m\u001b[0;36m1000\u001b[0m\u001b[0;34m,\u001b[0m \u001b[0mkappa\u001b[0m\u001b[0;34m=\u001b[0m\u001b[0mkappa\u001b[0m\u001b[0;34m,\u001b[0m \u001b[0mwidening_rate\u001b[0m\u001b[0;34m=\u001b[0m\u001b[0mdrift_rate\u001b[0m\u001b[0;34m,\u001b[0m \u001b[0msigma\u001b[0m\u001b[0;34m=\u001b[0m\u001b[0msigma\u001b[0m\u001b[0;34m)\u001b[0m\u001b[0;34m\u001b[0m\u001b[0m\n\u001b[1;32m      8\u001b[0m \u001b[0mreport\u001b[0m \u001b[0;34m=\u001b[0m \u001b[0mReport\u001b[0m\u001b[0;34m(\u001b[0m\u001b[0;34m\"von Mises Dephasing Channel\"\u001b[0m\u001b[0;34m)\u001b[0m\u001b[0;34m\u001b[0m\u001b[0m\n",
      "\u001b[0;31mNameError\u001b[0m: name 'NormalDephasingChannel' is not defined"
     ]
    }
   ],
   "source": [
    "error_rate = 0.01\n",
    "kappa = 100\n",
    "drift_rate = 0.01\n",
    "sigma = 10\n",
    "max_time = 1 / (0.06 * error_rate) ** 2\n",
    "channel = NormalDephasingChannel(error_rate=0.01, kappa=kappa, drift_rate=drift_rate, max_time=max_time, sigma=sigma)\n",
    "est = NormalDephasingEstimator(grains=1000, kappa=kappa, widening_rate=drift_rate, sigma=sigma)\n",
    "report = Report(\"Normal Dephasing Channel\")\n",
    "\n",
    "simulate(channel, est, report)\n",
    "\n",
    "fig, ax = plt.subplots(figsize=(12, 9))\n",
    "report.plot(ax)\n",
    "ax.set_title(\"Matched kernel\")\n",
    "ax.legend(frameon=True)"
   ]
  },
  {
   "cell_type": "code",
   "execution_count": null,
   "metadata": {
    "collapsed": false
   },
   "outputs": [],
   "source": [
    "def periodic_convolve(x, k):\n",
    "    \"\"\"\n",
    "    Returns a the convolution of periodic signal x with k.\n",
    "    \"\"\"\n",
    "    t = np.r_[x[-len(k):], x, x[:len(k)+1]]\n",
    "    yfwd = np.convolve(t, k, \"valid\")\n",
    "    ybwd = np.convolve(t[::-1], k, \"valid\")[::-1]\n",
    "    y = 0.5*(yfwd[1:]+ybwd[:-1])\n",
    "    Mi = np.floor(len(k)/2.0).astype(np.int)\n",
    "    Mf = np.ceil(len(k)/2.0).astype(np.int)\n",
    "    return y[Mf:-Mf]\n",
    "\n",
    "x = est.p\n",
    "k = est.kernel\n",
    "y = x\n",
    "for _ in range(1):\n",
    "    y = periodic_convolve(y, k)\n",
    "plt.plot(x, label=\"est.p\")\n",
    "plt.plot(y, label=\"periodic_convole\")\n",
    "plt.legend(frameon=True, loc=2)"
   ]
  },
  {
   "cell_type": "code",
   "execution_count": null,
   "metadata": {
    "collapsed": true
   },
   "outputs": [],
   "source": []
  }
 ],
 "metadata": {
  "kernelspec": {
   "display_name": "Python 2",
   "language": "python",
   "name": "python2"
  },
  "language_info": {
   "codemirror_mode": {
    "name": "ipython",
    "version": 2
   },
   "file_extension": ".py",
   "mimetype": "text/x-python",
   "name": "python",
   "nbconvert_exporter": "python",
   "pygments_lexer": "ipython2",
   "version": "2.7.11"
  }
 },
 "nbformat": 4,
 "nbformat_minor": 0
}
