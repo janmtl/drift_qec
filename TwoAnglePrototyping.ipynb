{
 "cells": [
  {
   "cell_type": "code",
   "execution_count": null,
   "metadata": {
    "collapsed": false
   },
   "outputs": [],
   "source": [
    "% matplotlib inline\n",
    "from mpl_toolkits.mplot3d import Axes3D\n",
    "from matplotlib import pyplot as plt\n",
    "from matplotlib import cm\n",
    "from matplotlib import animation\n",
    "from drift_qec.base import UnitalChannel\n",
    "import numpy as np\n",
    "import scipy as sp\n",
    "import seaborn as sns\n",
    "sns.set_style(\"whitegrid\")"
   ]
  },
  {
   "cell_type": "code",
   "execution_count": null,
   "metadata": {
    "collapsed": true
   },
   "outputs": [],
   "source": [
    "def Qx(w):\n",
    "    return np.array([[1,          0,         0],\n",
    "                     [0,  np.cos(w), np.sin(w)],\n",
    "                     [0, -np.sin(w), np.cos(w)]])\n",
    "\n",
    "def Qz(w):\n",
    "    return np.array([[ np.cos(w), np.sin(w), 0],\n",
    "                     [-np.sin(w), np.cos(w), 0],\n",
    "                     [         0,         0, 1]])\n",
    "\n",
    "def Q(w1, w2, w3):\n",
    "    return np.dot(np.dot(Qz(w1), Qx(w2)), Qz(w3))\n",
    "\n",
    "def R(a1, a2, a3):\n",
    "    return np.diag(np.array([a1, a2, a3]))"
   ]
  },
  {
   "cell_type": "code",
   "execution_count": null,
   "metadata": {
    "collapsed": false
   },
   "outputs": [],
   "source": [
    "max_time = 100\n",
    "ax, ay, az = [], [], []\n",
    "px, py, pz = [], [], []\n",
    "\n",
    "channel = UnitalChannel(0.1)\n",
    "for time in range(max_time):\n",
    "    ax.append(channel.A[0, 0])\n",
    "    ay.append(channel.A[1, 1])\n",
    "    az.append(channel.A[2, 2])\n",
    "    px.append(channel.PROB[0, 0])\n",
    "    py.append(channel.PROB[1, 1])\n",
    "    pz.append(channel.PROB[2, 2])\n",
    "    channel.step()\n",
    "\n",
    "plt.plot(ax, label=\"ax\")\n",
    "plt.plot(ay, label=\"ay\")\n",
    "plt.plot(az, label=\"az\")\n",
    "plt.plot(px, label=\"px\", ls=\"--\")\n",
    "plt.plot(py, label=\"py\", ls=\"--\")\n",
    "plt.plot(pz, label=\"pz\", ls=\"--\")\n",
    "plt.legend(frameon=True)"
   ]
  },
  {
   "cell_type": "code",
   "execution_count": null,
   "metadata": {
    "collapsed": true
   },
   "outputs": [],
   "source": [
    "X = np.array([[0, 1], [1, 0]])\n",
    "Y = np.array([[0, -1j], [0, 1j]])\n",
    "Z = np.array([[1, 0], [0, -1]])"
   ]
  },
  {
   "cell_type": "code",
   "execution_count": null,
   "metadata": {
    "collapsed": false
   },
   "outputs": [],
   "source": [
    "channel.step()\n",
    "u, v = np.mgrid[0:2*np.pi:20j, 0:np.pi:20j]\n",
    "x, y, z = np.cos(u)*np.sin(v), np.sin(u)*np.sin(v), np.cos(v)\n",
    "\n",
    "fig = plt.figure(figsize=(14,10))\n",
    "ax = plt.axes(projection='3d')\n",
    "ax.set_aspect(\"equal\")\n",
    "ax.set_frame_on(False)\n",
    "ax.w_xaxis.set_pane_color((1.0, 1.0, 1.0, 0.0))\n",
    "ax.w_yaxis.set_pane_color((1.0, 1.0, 1.0, 0.0))\n",
    "ax.w_zaxis.set_pane_color((1.0, 1.0, 1.0, 0.0))\n",
    "ax.grid(False)\n",
    "\n",
    "ax.plot_wireframe(x, y, z, color=[0.9, 0.9, 0.9], linewidth=0.75)\n",
    "ax.plot_surface(*channel.get_verts(x, y, z), rstride=1, cstride=1, cmap=cm.coolwarm)"
   ]
  },
  {
   "cell_type": "markdown",
   "metadata": {},
   "source": [
    "# Euler angle estimation"
   ]
  },
  {
   "cell_type": "code",
   "execution_count": null,
   "metadata": {
    "collapsed": false
   },
   "outputs": [],
   "source": [
    "Q(0.1, 0.0, -0.1)"
   ]
  },
  {
   "cell_type": "code",
   "execution_count": null,
   "metadata": {
    "collapsed": false
   },
   "outputs": [],
   "source": [
    "np.dot(Q(0.1, 0.2, 0.3), R(0.99, 0.8, 0.7))"
   ]
  },
  {
   "cell_type": "code",
   "execution_count": null,
   "metadata": {
    "collapsed": true
   },
   "outputs": [],
   "source": []
  },
  {
   "cell_type": "code",
   "execution_count": null,
   "metadata": {
    "collapsed": true
   },
   "outputs": [],
   "source": []
  },
  {
   "cell_type": "code",
   "execution_count": null,
   "metadata": {
    "collapsed": true
   },
   "outputs": [],
   "source": []
  },
  {
   "cell_type": "code",
   "execution_count": null,
   "metadata": {
    "collapsed": true
   },
   "outputs": [],
   "source": []
  },
  {
   "cell_type": "code",
   "execution_count": null,
   "metadata": {
    "collapsed": true
   },
   "outputs": [],
   "source": []
  },
  {
   "cell_type": "code",
   "execution_count": null,
   "metadata": {
    "collapsed": true
   },
   "outputs": [],
   "source": []
  },
  {
   "cell_type": "code",
   "execution_count": null,
   "metadata": {
    "collapsed": true
   },
   "outputs": [],
   "source": []
  },
  {
   "cell_type": "markdown",
   "metadata": {},
   "source": [
    "# Drift rates vs granularity\n",
    "Two grid cells are equivalent, and therefore should be joined (i.e.: the granularity should be decreased), if their probabilities are similar. For the normal distribution, this should be calculated for the grid cells that neighbour the greatest increase/decrease in the pdf. Inflection points on a normal curve are at $\\pm \\sigma$. At an inflection point, the absolute value of the first derivative is\n",
    "\n",
    "$$1 / (\\sigma^2 \\sqrt{2 \\pi e})$$"
   ]
  },
  {
   "cell_type": "markdown",
   "metadata": {},
   "source": [
    "Thus, if we want the probability $p$ to remain within $\\epsilon$ of the original value, we must have grids that are not more than $\\epsilon \\sigma^2 \\sqrt{2 \\pi e}$ apart. In other words, the number of grid points scales as $1/\\sigma^2$. But $\\sigma^2$ itself only scales as $\\kappa^2 N$. So we have to use $\\kappa^2$."
   ]
  },
  {
   "cell_type": "code",
   "execution_count": 1,
   "metadata": {
    "collapsed": false
   },
   "outputs": [],
   "source": [
    "import numpy as np"
   ]
  },
  {
   "cell_type": "code",
   "execution_count": 7,
   "metadata": {
    "collapsed": true
   },
   "outputs": [],
   "source": [
    "def Qx(w):\n",
    "    d = w.shape\n",
    "    return np.array([[ np.ones(d), np.zeros(d), np.zeros(d)],\n",
    "                     [np.zeros(d),   np.cos(w),   np.sin(w)],\n",
    "                     [np.zeros(d),  -np.sin(w),   np.cos(w)]])\n",
    "\n",
    "def Qz(w):\n",
    "    d = w.shape\n",
    "    return np.array([[   np.cos(w),   np.sin(w), np.zeros(d)],\n",
    "                     [  -np.sin(w),   np.cos(w), np.zeros(d)],\n",
    "                     [ np.zeros(d), np.zeros(d),  np.ones(d)]])\n",
    "\n",
    "def getQ(grains=100):\n",
    "    theta1 = np.linspace(0, np.pi, grains)\n",
    "    psi = np.linspace(0, 2*np.pi, grains)\n",
    "    theta2 = np.linspace(0, np.pi, grains)\n",
    "    Q1 = Qz(theta1)\n",
    "    Q2 = Qx(psi)\n",
    "    Q3 = Qz(theta2)\n",
    "    Q12 = np.tensordot(Q1, Q2, axes=([0], [1]))\n",
    "    Q12 = np.swapaxes(Q12, 1, 2)\n",
    "    Q123 = np.tensordot(Q12, Q3, axes=([0], [1]))\n",
    "    Q123 = np.swapaxes(np.swapaxes(Q123, 1, 3), 2, 3)\n",
    "    return Q123\n",
    "\n",
    "def Q_probs(Q, kappa=0.1):\n",
    "    pass\n",
    "\n"
   ]
  },
  {
   "cell_type": "code",
   "execution_count": 12,
   "metadata": {
    "collapsed": false
   },
   "outputs": [],
   "source": [
    "kappa = 0.1\n",
    "Q = getQ()\n",
    "R = np.diag([1, kappa, 0])"
   ]
  },
  {
   "cell_type": "code",
   "execution_count": null,
   "metadata": {
    "collapsed": true
   },
   "outputs": [],
   "source": []
  }
 ],
 "metadata": {
  "kernelspec": {
   "display_name": "Python 2",
   "language": "python",
   "name": "python2"
  },
  "language_info": {
   "codemirror_mode": {
    "name": "ipython",
    "version": 2
   },
   "file_extension": ".py",
   "mimetype": "text/x-python",
   "name": "python",
   "nbconvert_exporter": "python",
   "pygments_lexer": "ipython2",
   "version": "2.7.11"
  }
 },
 "nbformat": 4,
 "nbformat_minor": 0
}
