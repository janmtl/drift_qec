{
 "cells": [
  {
   "cell_type": "code",
   "execution_count": 1,
   "metadata": {
    "collapsed": false
   },
   "outputs": [
    {
     "name": "stdout",
     "output_type": "stream",
     "text": [
      "(2, 1001)\n"
     ]
    },
    {
     "name": "stderr",
     "output_type": "stream",
     "text": [
      "/Users/yan/.miniconda/lib/python2.7/site-packages/matplotlib/__init__.py:872: UserWarning: axes.color_cycle is deprecated and replaced with axes.prop_cycle; please use the latter.\n",
      "  warnings.warn(self.msg_depr % (key, alt_key))\n"
     ]
    }
   ],
   "source": [
    "% matplotlib inline\n",
    "import pandas as pd\n",
    "import numpy as np\n",
    "from matplotlib import pyplot as plt\n",
    "from drift_qec.twoangledephasing import *\n",
    "import seaborn as sns\n",
    "sns.set_style(\"whitegrid\")\n",
    "\n",
    "max_time = 1e3\n",
    "theta = ThetaPhi(max_time, grains=10000, sigma=0.01)"
   ]
  },
  {
   "cell_type": "code",
   "execution_count": null,
   "metadata": {
    "collapsed": false
   },
   "outputs": [],
   "source": [
    "p = Constant(0.01, \"p\")\n",
    "\n",
    "params = {\"ThetaPhi\": theta, \"Phi\": phi}\n",
    "constants = {\"p\": p}\n",
    "\n",
    "estimator = TwoAngleDephasingEstimator(params, constants)\n",
    "channel = TwoAngleDephasingChannel(15, max_time)\n",
    "report = Report(\"Two Angle Dephasing\")\n",
    "\n",
    "time = 0\n",
    "while time < max_time:\n",
    "    s = channel.error(estimator.params, estimator.constants, time)\n",
    "    estimator.update(s, time)\n",
    "    plt.plot(params[\"Theta\"].p)\n",
    "    report.record(s, time)\n",
    "    time = time + 1\n",
    "report.exit(time, \"oot\", estimator)\n",
    "\n",
    "fig, ax = plt.subplots(figsize=(12, 8))\n",
    "report.plot(ax, weightson=True)\n",
    "ax.legend(frameon=True)"
   ]
  },
  {
   "cell_type": "code",
   "execution_count": null,
   "metadata": {
    "collapsed": true
   },
   "outputs": [],
   "source": []
  }
 ],
 "metadata": {
  "kernelspec": {
   "display_name": "Python 2",
   "language": "python",
   "name": "python2"
  },
  "language_info": {
   "codemirror_mode": {
    "name": "ipython",
    "version": 2
   },
   "file_extension": ".py",
   "mimetype": "text/x-python",
   "name": "python",
   "nbconvert_exporter": "python",
   "pygments_lexer": "ipython2",
   "version": "2.7.11"
  }
 },
 "nbformat": 4,
 "nbformat_minor": 0
}
