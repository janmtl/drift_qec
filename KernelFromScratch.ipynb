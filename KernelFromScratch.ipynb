{
 "cells": [
  {
   "cell_type": "code",
   "execution_count": 26,
   "metadata": {
    "collapsed": true
   },
   "outputs": [],
   "source": [
    "% matplotlib inline\n",
    "from matplotlib import pyplot as plt\n",
    "import numpy as np"
   ]
  },
  {
   "cell_type": "code",
   "execution_count": 122,
   "metadata": {
    "collapsed": true
   },
   "outputs": [],
   "source": [
    "def periodic_convolve(x, k):\n",
    "    \"\"\"Returns a the convolution of periodic signal x with k assuming len(k) < len(x) / 2.\"\"\"\n",
    "    # CHECK THAT len(k) < len(x) / 2, if not, throw exception.\n",
    "    N = len(x)\n",
    "    M = len(k) / 2\n",
    "    # Pad the periodic signal with half a kernel-length on each side\n",
    "    y = np.r_[x[-np.ceil(M):], x, x[:np.floor(M)]]\n",
    "    y = np.convolve(y, k, \"valid\")\n",
    "    return y"
   ]
  },
  {
   "cell_type": "code",
   "execution_count": 123,
   "metadata": {
    "collapsed": false
   },
   "outputs": [
    {
     "name": "stderr",
     "output_type": "stream",
     "text": [
      "/Users/yan/.miniconda/lib/python2.7/site-packages/ipykernel/__main__.py:7: DeprecationWarning: using a non-integer number instead of an integer will result in an error in the future\n"
     ]
    },
    {
     "data": {
      "text/plain": [
       "<matplotlib.legend.Legend at 0x10d2f3690>"
      ]
     },
     "execution_count": 123,
     "metadata": {},
     "output_type": "execute_result"
    },
    {
     "data": {
      "image/png": "[encoded data removed]",
      "text/plain": [
       "<matplotlib.figure.Figure at 0x10d135e90>"
      ]
     },
     "metadata": {},
     "output_type": "display_data"
    }
   ],
   "source": [
    "N = 500\n",
    "\n",
    "t = np.linspace(0, np.pi, N)\n",
    "# USE VON MISES\n",
    "p_in = np.exp(-np.cos(t-np.pi/2) ** 2)\n",
    "p_in = p_in / np.sum(p_in)\n",
    "\n",
    "drift_rate = 0.2\n",
    "w = N * (drift_rate / np.pi)\n",
    "wint  = np.floor(w).astype(np.int)\n",
    "wfrac = w - np.floor(w)\n",
    "k = np.zeros(2*wint + 3)\n",
    "k[0] = 0.5*wfrac\n",
    "k[1] = 0.5*(1-wfrac)\n",
    "k[-1] = 0.5*(wfrac)\n",
    "k[-2] = 0.5*(1-wfrac)\n",
    "\n",
    "p_out = periodic_convolve(p_in, k)\n",
    "\n",
    "plt.plot(p_in, label=\"p_in\")\n",
    "plt.plot(p_out, label=\"p_out\")\n",
    "plt.legend()"
   ]
  },
  {
   "cell_type": "code",
   "execution_count": null,
   "metadata": {
    "collapsed": true
   },
   "outputs": [],
   "source": []
  },
  {
   "cell_type": "code",
   "execution_count": null,
   "metadata": {
    "collapsed": true
   },
   "outputs": [],
   "source": []
  }
 ],
 "metadata": {
  "kernelspec": {
   "display_name": "Python 2",
   "language": "python",
   "name": "python2"
  },
  "language_info": {
   "codemirror_mode": {
    "name": "ipython",
    "version": 2
   },
   "file_extension": ".py",
   "mimetype": "text/x-python",
   "name": "python",
   "nbconvert_exporter": "python",
   "pygments_lexer": "ipython2",
   "version": "2.7.11"
  }
 },
 "nbformat": 4,
 "nbformat_minor": 0
}
