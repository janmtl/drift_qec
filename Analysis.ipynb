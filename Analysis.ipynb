{
 "cells": [
  {
   "cell_type": "code",
   "execution_count": 71,
   "metadata": {
    "collapsed": false
   },
   "outputs": [],
   "source": [
    "% matplotlib inline\n",
    "from matplotlib import pyplot as plt\n",
    "import pandas as pd\n",
    "import numpy as np\n",
    "from glob import glob\n",
    "import seaborn as sns"
   ]
  },
  {
   "cell_type": "code",
   "execution_count": 72,
   "metadata": {
    "collapsed": false
   },
   "outputs": [],
   "source": [
    "df = pd.concat([pd.read_csv(fname) for fname in glob(\"data/*.csv\")])\n",
    "df.columns = [\"error\", \"drift\", \"time\", \"exit\"]"
   ]
  },
  {
   "cell_type": "code",
   "execution_count": 73,
   "metadata": {
    "collapsed": true
   },
   "outputs": [],
   "source": [
    "df[\"ratio\"] = df[\"drift\"] / df[\"error\"]"
   ]
  },
  {
   "cell_type": "code",
   "execution_count": 74,
   "metadata": {
    "collapsed": false
   },
   "outputs": [],
   "source": [
    "v = df.pivot_table(index=\"error\", columns=\"ratio\", values=\"time\", aggfunc=pd.DataFrame.mean)\n",
    "s = df.pivot_table(index=\"error\", columns=\"ratio\", values=\"time\", aggfunc=pd.DataFrame.sem)\n",
    "n = df.pivot_table(index=\"error\", columns=\"ratio\", values=\"time\", aggfunc=pd.DataFrame.count)"
   ]
  },
  {
   "cell_type": "code",
   "execution_count": 75,
   "metadata": {
    "collapsed": false
   },
   "outputs": [
    {
     "data": {
      "text/html": [
       "<div>\n",
       "<table border=\"1\" class=\"dataframe\">\n",
       "  <thead>\n",
       "    <tr style=\"text-align: right;\">\n",
       "      <th>ratio</th>\n",
       "      <th>0.001</th>\n",
       "      <th>0.00215443469003</th>\n",
       "      <th>0.00215443469003</th>\n",
       "      <th>0.00464158883361</th>\n",
       "      <th>0.00464158883361</th>\n",
       "      <th>0.01</th>\n",
       "      <th>0.0215443469003</th>\n",
       "      <th>0.0215443469003</th>\n",
       "      <th>0.0464158883361</th>\n",
       "      <th>0.0464158883361</th>\n",
       "      <th>...</th>\n",
       "      <th>0.215443469003</th>\n",
       "      <th>0.215443469003</th>\n",
       "      <th>0.215443469003</th>\n",
       "      <th>0.464158883361</th>\n",
       "      <th>0.464158883361</th>\n",
       "      <th>0.464158883362</th>\n",
       "      <th>1.0</th>\n",
       "      <th>2.15443469003</th>\n",
       "      <th>2.15443469003</th>\n",
       "      <th>4.64158883362</th>\n",
       "    </tr>\n",
       "    <tr>\n",
       "      <th>error</th>\n",
       "      <th></th>\n",
       "      <th></th>\n",
       "      <th></th>\n",
       "      <th></th>\n",
       "      <th></th>\n",
       "      <th></th>\n",
       "      <th></th>\n",
       "      <th></th>\n",
       "      <th></th>\n",
       "      <th></th>\n",
       "      <th></th>\n",
       "      <th></th>\n",
       "      <th></th>\n",
       "      <th></th>\n",
       "      <th></th>\n",
       "      <th></th>\n",
       "      <th></th>\n",
       "      <th></th>\n",
       "      <th></th>\n",
       "      <th></th>\n",
       "      <th></th>\n",
       "    </tr>\n",
       "  </thead>\n",
       "  <tbody>\n",
       "    <tr>\n",
       "      <th>0.002154</th>\n",
       "      <td>NaN</td>\n",
       "      <td>NaN</td>\n",
       "      <td>NaN</td>\n",
       "      <td>NaN</td>\n",
       "      <td>NaN</td>\n",
       "      <td>NaN</td>\n",
       "      <td>NaN</td>\n",
       "      <td>NaN</td>\n",
       "      <td>NaN</td>\n",
       "      <td>NaN</td>\n",
       "      <td>...</td>\n",
       "      <td>NaN</td>\n",
       "      <td>6957796.559748</td>\n",
       "      <td>NaN</td>\n",
       "      <td>NaN</td>\n",
       "      <td>NaN</td>\n",
       "      <td>3509361.129412</td>\n",
       "      <td>1492924.888235</td>\n",
       "      <td>646994.570588</td>\n",
       "      <td>NaN</td>\n",
       "      <td>162629.123529</td>\n",
       "    </tr>\n",
       "    <tr>\n",
       "      <th>0.004642</th>\n",
       "      <td>NaN</td>\n",
       "      <td>NaN</td>\n",
       "      <td>1470984.505882</td>\n",
       "      <td>NaN</td>\n",
       "      <td>1572804.841176</td>\n",
       "      <td>1658313.211765</td>\n",
       "      <td>NaN</td>\n",
       "      <td>1409586.352941</td>\n",
       "      <td>NaN</td>\n",
       "      <td>1311965.105882</td>\n",
       "      <td>...</td>\n",
       "      <td>NaN</td>\n",
       "      <td>NaN</td>\n",
       "      <td>792165.717647</td>\n",
       "      <td>NaN</td>\n",
       "      <td>429187.452941</td>\n",
       "      <td>NaN</td>\n",
       "      <td>256873.658824</td>\n",
       "      <td>NaN</td>\n",
       "      <td>75999.864706</td>\n",
       "      <td>NaN</td>\n",
       "    </tr>\n",
       "    <tr>\n",
       "      <th>0.010000</th>\n",
       "      <td>69893.282353</td>\n",
       "      <td>79088.552941</td>\n",
       "      <td>NaN</td>\n",
       "      <td>66400.164706</td>\n",
       "      <td>NaN</td>\n",
       "      <td>74801.470588</td>\n",
       "      <td>67250.582353</td>\n",
       "      <td>NaN</td>\n",
       "      <td>78896.376471</td>\n",
       "      <td>NaN</td>\n",
       "      <td>...</td>\n",
       "      <td>65411.494118</td>\n",
       "      <td>NaN</td>\n",
       "      <td>NaN</td>\n",
       "      <td>44085.005882</td>\n",
       "      <td>NaN</td>\n",
       "      <td>NaN</td>\n",
       "      <td>24242.454023</td>\n",
       "      <td>NaN</td>\n",
       "      <td>NaN</td>\n",
       "      <td>NaN</td>\n",
       "    </tr>\n",
       "  </tbody>\n",
       "</table>\n",
       "<p>3 rows × 24 columns</p>\n",
       "</div>"
      ],
      "text/plain": [
       "ratio         0.001000      0.002154        0.002154      0.004642  \\\n",
       "error                                                                \n",
       "0.002154           NaN           NaN             NaN           NaN   \n",
       "0.004642           NaN           NaN  1470984.505882           NaN   \n",
       "0.010000  69893.282353  79088.552941             NaN  66400.164706   \n",
       "\n",
       "ratio           0.004642        0.010000      0.021544        0.021544  \\\n",
       "error                                                                    \n",
       "0.002154             NaN             NaN           NaN             NaN   \n",
       "0.004642  1572804.841176  1658313.211765           NaN  1409586.352941   \n",
       "0.010000             NaN    74801.470588  67250.582353             NaN   \n",
       "\n",
       "ratio         0.046416        0.046416      ...            0.215443  \\\n",
       "error                                       ...                       \n",
       "0.002154           NaN             NaN      ...                 NaN   \n",
       "0.004642           NaN  1311965.105882      ...                 NaN   \n",
       "0.010000  78896.376471             NaN      ...        65411.494118   \n",
       "\n",
       "ratio           0.215443       0.215443      0.464159       0.464159  \\\n",
       "error                                                                  \n",
       "0.002154  6957796.559748            NaN           NaN            NaN   \n",
       "0.004642             NaN  792165.717647           NaN  429187.452941   \n",
       "0.010000             NaN            NaN  44085.005882            NaN   \n",
       "\n",
       "ratio           0.464159        1.000000       2.154435      2.154435  \\\n",
       "error                                                                   \n",
       "0.002154  3509361.129412  1492924.888235  646994.570588           NaN   \n",
       "0.004642             NaN   256873.658824            NaN  75999.864706   \n",
       "0.010000             NaN    24242.454023            NaN           NaN   \n",
       "\n",
       "ratio          4.641589  \n",
       "error                    \n",
       "0.002154  162629.123529  \n",
       "0.004642            NaN  \n",
       "0.010000            NaN  \n",
       "\n",
       "[3 rows x 24 columns]"
      ]
     },
     "execution_count": 75,
     "metadata": {},
     "output_type": "execute_result"
    }
   ],
   "source": [
    "v"
   ]
  },
  {
   "cell_type": "code",
   "execution_count": 76,
   "metadata": {
    "collapsed": false
   },
   "outputs": [
    {
     "data": {
      "text/plain": [
       "<matplotlib.legend.Legend at 0x11105d710>"
      ]
     },
     "execution_count": 76,
     "metadata": {},
     "output_type": "execute_result"
    },
    {
     "data": {
      "image/png": "[encoded data removed]",
      "text/plain": [
       "<matplotlib.figure.Figure at 0x11105d190>"
      ]
     },
     "metadata": {},
     "output_type": "display_data"
    }
   ],
   "source": [
    "pal = sns.color_palette(\"husl\", len(v))\n",
    "plt.figure(figsize=(12, 8))\n",
    "for idx, drift in enumerate(v.index):\n",
    "    x = v.loc[drift, :].index\n",
    "    y = v.loc[drift, :].values\n",
    "    d = s.loc[drift, :].values\n",
    "    sel = ~np.isnan(y)\n",
    "    x = x[sel]\n",
    "    y = y[sel]\n",
    "    d = d[sel]\n",
    "    plt.loglog(x, y, label=drift, color=pal[idx])\n",
    "    plt.fill_between(x, y - d, y + d, color=pal[idx], alpha=0.4)\n",
    "plt.legend()"
   ]
  },
  {
   "cell_type": "code",
   "execution_count": null,
   "metadata": {
    "collapsed": true
   },
   "outputs": [],
   "source": []
  }
 ],
 "metadata": {
  "kernelspec": {
   "display_name": "Python 2",
   "language": "python",
   "name": "python2"
  },
  "language_info": {
   "codemirror_mode": {
    "name": "ipython",
    "version": 2
   },
   "file_extension": ".py",
   "mimetype": "text/x-python",
   "name": "python",
   "nbconvert_exporter": "python",
   "pygments_lexer": "ipython2",
   "version": "2.7.11"
  }
 },
 "nbformat": 4,
 "nbformat_minor": 0
}
