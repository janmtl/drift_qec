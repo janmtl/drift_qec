{
 "cells": [
  {
   "cell_type": "code",
   "execution_count": 41,
   "metadata": {
    "collapsed": false
   },
   "outputs": [
    {
     "name": "stdout",
     "output_type": "stream",
     "text": [
      "The autoreload extension is already loaded. To reload it, use:\n",
      "  %reload_ext autoreload\n"
     ]
    }
   ],
   "source": [
    "%load_ext autoreload\n",
    "%autoreload 2\n",
    "%matplotlib inline\n",
    "\n",
    "from matplotlib import pyplot as plt\n",
    "import numpy as np\n",
    "import pandas as pd\n",
    "import scipy as sp\n",
    "import seaborn as sns\n",
    "np.set_printoptions(precision=4, linewidth=120)\n",
    "from copy import copy\n",
    "from tqdm import *\n",
    "from drift_qec.Q import *"
   ]
  },
  {
   "cell_type": "code",
   "execution_count": 26,
   "metadata": {
    "collapsed": true
   },
   "outputs": [],
   "source": [
    "def o(Q, D):\n",
    "    return np.dot(np.dot(Q, D), Q.T)\n",
    "\n",
    "def PL(B, d):\n",
    "    c, s = np.cos(d), np.sin(d)\n",
    "    b1, b2, b3 = B[0, 0], B[1, 1], B[2, 2]\n",
    "    b4, b5, b6 = B[0, 1], B[0, 2], B[1, 2]\n",
    "    p1L1 = (b1*c-b4*s) ** 2 + (b2*s) ** 2\n",
    "    p2L1 = (b1*s+b4*c) ** 2 + (b2*c) ** 2\n",
    "    p3L1 = b3 ** 2 + b5 ** 2 + b6 ** 2\n",
    "    p1L2 = (b1*c-b5*s) ** 2 + (b3 ** 2 + b6 ** 2) * (s ** 2)\n",
    "    p2L2 = b2 ** 2 + b4 ** 2\n",
    "    p3L2 = (b1*s+b5*c) ** 2 + (b3 ** 2 + b6 ** 2) * (c ** 2)\n",
    "    p1L3 = b1 ** 2\n",
    "    p2L3 = (b2*c-b6*s) ** 2 + (b4*c-b5*s) ** 2 + (b3*s) ** 2\n",
    "    p3L3 = (b2*s+b6*c) ** 2 + (b4*s+b5*c) ** 2 + (b3*c) ** 2\n",
    "    return np.array([p1L1,p2L1,p3L1,p1L2,p2L2,p3L2,p1L3,p2L3,p3L3])\n",
    "\n",
    "def likelihood(M, data, d, lam):\n",
    "    B = np.linalg.cholesky(M).T\n",
    "    p = PL(B, d)\n",
    "    l_data = np.dot(data, np.log(p))\n",
    "    l_trace = lam*(1-np.sum(B ** 2))\n",
    "    return l_data + l_trace"
   ]
  },
  {
   "cell_type": "code",
   "execution_count": 36,
   "metadata": {
    "collapsed": true
   },
   "outputs": [],
   "source": [
    "d = 0.01\n",
    "Q = np.linalg.qr(np.random.random((3,3)))[0]\n",
    "M = o(Q, np.diag([0.7, 0.2, 0.1]))"
   ]
  },
  {
   "cell_type": "code",
   "execution_count": 39,
   "metadata": {
    "collapsed": false
   },
   "outputs": [
    {
     "data": {
      "text/plain": [
       "array([-1.4542, -0.8317, -1.1054, -1.4481, -0.8381, -1.1012, -1.4423, -0.8504, -1.0895])"
      ]
     },
     "execution_count": 39,
     "metadata": {},
     "output_type": "execute_result"
    }
   ],
   "source": []
  },
  {
   "cell_type": "code",
   "execution_count": 38,
   "metadata": {
    "collapsed": false
   },
   "outputs": [
    {
     "data": {
      "text/plain": [
       "array([ 1.,  1.,  1.])"
      ]
     },
     "execution_count": 38,
     "metadata": {},
     "output_type": "execute_result"
    }
   ],
   "source": [
    "np.sum(np.reshape(PL(B, d), (3,3)), axis=1)"
   ]
  },
  {
   "cell_type": "code",
   "execution_count": 42,
   "metadata": {
    "collapsed": true
   },
   "outputs": [],
   "source": []
  },
  {
   "cell_type": "code",
   "execution_count": null,
   "metadata": {
    "collapsed": true
   },
   "outputs": [],
   "source": []
  }
 ],
 "metadata": {
  "kernelspec": {
   "display_name": "Python 2",
   "language": "python",
   "name": "python2"
  },
  "language_info": {
   "codemirror_mode": {
    "name": "ipython",
    "version": 2
   },
   "file_extension": ".py",
   "mimetype": "text/x-python",
   "name": "python",
   "nbconvert_exporter": "python",
   "pygments_lexer": "ipython2",
   "version": "2.7.11"
  },
  "toc": {
   "toc_cell": false,
   "toc_number_sections": true,
   "toc_threshold": 6,
   "toc_window_display": false
  }
 },
 "nbformat": 4,
 "nbformat_minor": 0
}
