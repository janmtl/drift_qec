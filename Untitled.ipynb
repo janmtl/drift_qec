{
 "cells": [
  {
   "cell_type": "code",
   "execution_count": 1,
   "metadata": {
    "collapsed": false
   },
   "outputs": [
    {
     "name": "stderr",
     "output_type": "stream",
     "text": [
      "/Users/yan/.miniconda/lib/python2.7/site-packages/matplotlib/__init__.py:872: UserWarning: axes.color_cycle is deprecated and replaced with axes.prop_cycle; please use the latter.\n",
      "  warnings.warn(self.msg_depr % (key, alt_key))\n"
     ]
    }
   ],
   "source": [
    "%load_ext autoreload\n",
    "%autoreload 2\n",
    "%matplotlib inline\n",
    "\n",
    "from matplotlib import pyplot as plt\n",
    "import numpy as np\n",
    "import pandas as pd\n",
    "import scipy as sp\n",
    "import seaborn as sns\n",
    "np.set_printoptions(precision=2, linewidth=120)\n",
    "from copy import copy\n",
    "from tqdm import *\n",
    "from drift_qec.Q import *"
   ]
  },
  {
   "cell_type": "markdown",
   "metadata": {},
   "source": [
    "# Instantaneous updates "
   ]
  },
  {
   "cell_type": "code",
   "execution_count": 137,
   "metadata": {
    "collapsed": true
   },
   "outputs": [],
   "source": [
    "def o(A, B):\n",
    "    return np.dot(np.dot(A, B), A.T)"
   ]
  },
  {
   "cell_type": "code",
   "execution_count": 187,
   "metadata": {
    "collapsed": false
   },
   "outputs": [],
   "source": [
    "d1, d2, d3 = 0.1, 0.1, 0.1\n",
    "L1, L2, L3 = Ls(d1, d2, d3)\n",
    "\n",
    "M3X = np.array([\n",
    "        [np.cos(d3) ** 2, 0.5 * np.sin(2.0*d3), 0.0],\n",
    "        [0.5 * np.sin(2.0*d3), np.sin(d3) ** 2, 0.0],\n",
    "        [0.0, 0.0, 0.0]\n",
    "    ])\n",
    "\n",
    "M3Y = np.array([\n",
    "        [np.sin(d3) ** 2, 0.5 * np.sin(2.0*d3), 0.0],\n",
    "        [0.5 * np.sin(2.0*d3), np.cos(d3) ** 2, 0.0],\n",
    "        [0.0, 0.0, 0.0]\n",
    "    ])\n",
    "\n",
    "M3Z = np.array([\n",
    "        [0.0, 0.0, 0.0],\n",
    "        [0.0, 0.0, 0.0],\n",
    "        [0.0, 0.0, 1.0]\n",
    "    ])\n",
    "\n",
    "M1X = np.roll(np.roll(M3Z,1,1),1,0)\n",
    "M1Y = np.roll(np.roll(M3X,1,1),1,0)\n",
    "M1Z = np.roll(np.roll(M3Y,1,1),1,0)\n",
    "\n",
    "M2X = np.roll(np.roll(M1Z,1,1),1,0)\n",
    "M2Y = np.roll(np.roll(M1X,1,1),1,0)\n",
    "M2Z = np.roll(np.roll(M1Y,1,1),1,0)\n",
    "\n",
    "Q=np.linalg.qr(np.random.randn(3,3))[0]\n",
    "M = o(Q, np.diag([0.7, 0.2, 0.1]))\n",
    "\n",
    "p1x, p1y, p1z = np.diag(o(L1, M))\n",
    "p2x, p2y, p2z = np.diag(o(L2, M))\n",
    "p3x, p3y, p3z = np.diag(o(L3, M))"
   ]
  },
  {
   "cell_type": "code",
   "execution_count": 194,
   "metadata": {
    "collapsed": false
   },
   "outputs": [
    {
     "data": {
      "text/plain": [
       "array([[ 0.56,  0.03,  0.02],\n",
       "       [ 0.03,  0.29,  0.01],\n",
       "       [ 0.02,  0.01,  0.15]])"
      ]
     },
     "execution_count": 194,
     "metadata": {},
     "output_type": "execute_result"
    }
   ],
   "source": [
    "1.0/3.0 * (p1x * M1X + p1y * M1Y + p1z * M1Z) \\\n",
    "+ 1.0/3.0 * (p2x * M2X + p2y * M2Y + p2z * M2Z) \\\n",
    "+ 1.0/3.0 * (p3x * M3X + p3y * M3Y + p3z * M3Z)"
   ]
  },
  {
   "cell_type": "code",
   "execution_count": 196,
   "metadata": {
    "collapsed": false
   },
   "outputs": [
    {
     "data": {
      "text/plain": [
       "array([[ 0.56, -0.2 ,  0.12],\n",
       "       [-0.2 ,  0.3 , -0.03],\n",
       "       [ 0.12, -0.03,  0.14]])"
      ]
     },
     "execution_count": 196,
     "metadata": {},
     "output_type": "execute_result"
    }
   ],
   "source": [
    "M"
   ]
  },
  {
   "cell_type": "code",
   "execution_count": null,
   "metadata": {
    "collapsed": true
   },
   "outputs": [],
   "source": []
  }
 ],
 "metadata": {
  "kernelspec": {
   "display_name": "Python 2",
   "language": "python",
   "name": "python2"
  },
  "language_info": {
   "codemirror_mode": {
    "name": "ipython",
    "version": 2
   },
   "file_extension": ".py",
   "mimetype": "text/x-python",
   "name": "python",
   "nbconvert_exporter": "python",
   "pygments_lexer": "ipython2",
   "version": "2.7.11"
  },
  "toc": {
   "toc_cell": false,
   "toc_number_sections": true,
   "toc_threshold": 6,
   "toc_window_display": false
  }
 },
 "nbformat": 4,
 "nbformat_minor": 0
}
